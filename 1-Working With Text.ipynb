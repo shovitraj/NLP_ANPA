{
 "cells": [
  {
   "cell_type": "code",
   "execution_count": 1,
   "metadata": {
    "id": "nBVrIzicEYkp"
   },
   "outputs": [],
   "source": [
    "# Working With Text"
   ]
  },
  {
   "cell_type": "markdown",
   "metadata": {
    "id": "3aHMYkFv_Qug"
   },
   "source": [
    "# Working with Text"
   ]
  },
  {
   "cell_type": "code",
   "execution_count": 2,
   "metadata": {
    "colab": {
     "base_uri": "https://localhost:8080/"
    },
    "executionInfo": {
     "elapsed": 22269,
     "status": "ok",
     "timestamp": 1633185931884,
     "user": {
      "displayName": "Shovit Bhari",
      "photoUrl": "https://lh3.googleusercontent.com/a-/AOh14Gg8SHY80seEg1yKQZGE4rGmTfOLMow46uexTDDHgXs=s64",
      "userId": "10536014893780956222"
     },
     "user_tz": 420
    },
    "id": "pBkIoXPC_YpK",
    "outputId": "09ab2e28-7f37-40e2-da9d-f689de475cd1"
   },
   "outputs": [],
   "source": [
    "# from google.colab import drive\n",
    "\n",
    "# drive.mount('/content/drive')\n"
   ]
  },
  {
   "cell_type": "code",
   "execution_count": 3,
   "metadata": {
    "id": "FQ9JGhEZDXgh"
   },
   "outputs": [],
   "source": [
    "# PATH = '/content/drive/MyDrive/NLP_ANPA_Master/'"
   ]
  },
  {
   "cell_type": "markdown",
   "metadata": {
    "id": "fIu9gH9MEdW6"
   },
   "source": [
    "### Text data is growing fast!\n",
    "\n",
    "* Data continues to grow exponentially\n",
    "** Estimated to be 2.5 Exabytes(2.5 Million TB) a \n",
    "** Grow to 40 Zetabytes (40 billion TB) by 2020 (50 times of 2021)\n",
    "\n",
    "* Approximately 80% of all the data is estimated to be unstructured, text-rich data\n",
    "\n",
    "\n",
    "**\n",
    "\n"
   ]
  },
  {
   "cell_type": "markdown",
   "metadata": {
    "id": "WzsDAxJTAKcC"
   },
   "source": [
    "### So, what can be done with text?\n",
    "\n",
    "* Parse text\n",
    "* Find/Identify/Extract relevant information from the text\n",
    "* Classify text documents\n",
    "* Search for relevant text documents\n",
    "* Sentiment analysis\n",
    "* Topic modeling\n",
    "* ***\n",
    "\n"
   ]
  },
  {
   "cell_type": "markdown",
   "metadata": {
    "id": "D-0H7GjqNB4g"
   },
   "source": [
    "# Natural Language Processing\n",
    "\n",
    "* Any computation, manipulation of natural language\n",
    "\n",
    "## Natural Language Involves\n",
    "\n",
    "* new words get added\n",
    "* old words lose popularity\n",
    "* meaning of words change\n",
    "* language rules themselves may change\n",
    "\n",
    "## NLP Tasks:\n",
    "\n",
    "* Counting words, counting frequency of words\n",
    "* Finding sentence boundaries\n",
    "* Part of speech tagging\n",
    "* Parsing the sentence structure\n",
    "* Identifying semantic role\n",
    "* Identifying entities in a sentence\n",
    "* Finding which pronoun rerers to which entity\n",
    "\n"
   ]
  },
  {
   "cell_type": "code",
   "execution_count": 4,
   "metadata": {
    "colab": {
     "base_uri": "https://localhost:8080/"
    },
    "executionInfo": {
     "elapsed": 35,
     "status": "ok",
     "timestamp": 1633185936305,
     "user": {
      "displayName": "Shovit Bhari",
      "photoUrl": "https://lh3.googleusercontent.com/a-/AOh14Gg8SHY80seEg1yKQZGE4rGmTfOLMow46uexTDDHgXs=s64",
      "userId": "10536014893780956222"
     },
     "user_tz": 420
    },
    "id": "nXHq3hkPEhgz",
    "outputId": "8bca0476-2dee-4d47-8949-b6d7a49c4a5d"
   },
   "outputs": [
    {
     "data": {
      "text/plain": [
       "76"
      ]
     },
     "execution_count": 4,
     "metadata": {},
     "output_type": "execute_result"
    }
   ],
   "source": [
    "text1 = \"Ethics are built right into the ideals and objectives of the United Nations \"\n",
    "\n",
    "# The length of text1\n",
    "\n",
    "len(text1) "
   ]
  },
  {
   "cell_type": "code",
   "execution_count": 5,
   "metadata": {
    "colab": {
     "base_uri": "https://localhost:8080/",
     "height": 35
    },
    "executionInfo": {
     "elapsed": 7,
     "status": "ok",
     "timestamp": 1633185936760,
     "user": {
      "displayName": "Shovit Bhari",
      "photoUrl": "https://lh3.googleusercontent.com/a-/AOh14Gg8SHY80seEg1yKQZGE4rGmTfOLMow46uexTDDHgXs=s64",
      "userId": "10536014893780956222"
     },
     "user_tz": 420
    },
    "id": "gOBkEnVji3sT",
    "outputId": "934e9bc1-cbe4-4654-8944-0cdbe8910ea9"
   },
   "outputs": [
    {
     "data": {
      "text/plain": [
       "'ethics are built right into the ideals and objectives of the united nations '"
      ]
     },
     "execution_count": 5,
     "metadata": {},
     "output_type": "execute_result"
    }
   ],
   "source": [
    "text1.lower()\n"
   ]
  },
  {
   "cell_type": "code",
   "execution_count": 6,
   "metadata": {
    "colab": {
     "base_uri": "https://localhost:8080/"
    },
    "executionInfo": {
     "elapsed": 5,
     "status": "ok",
     "timestamp": 1633185937629,
     "user": {
      "displayName": "Shovit Bhari",
      "photoUrl": "https://lh3.googleusercontent.com/a-/AOh14Gg8SHY80seEg1yKQZGE4rGmTfOLMow46uexTDDHgXs=s64",
      "userId": "10536014893780956222"
     },
     "user_tz": 420
    },
    "id": "6wwjWHdBElHP",
    "outputId": "69c10f18-287a-4dd7-d610-4dc9450c8259"
   },
   "outputs": [
    {
     "data": {
      "text/plain": [
       "14"
      ]
     },
     "execution_count": 6,
     "metadata": {},
     "output_type": "execute_result"
    }
   ],
   "source": [
    "# Return a list of the words in text2, separating by ' '.\n",
    "\n",
    "text2 = text1.split(' ') \n",
    "\n",
    "len(text2)"
   ]
  },
  {
   "cell_type": "code",
   "execution_count": 7,
   "metadata": {
    "colab": {
     "base_uri": "https://localhost:8080/"
    },
    "executionInfo": {
     "elapsed": 4,
     "status": "ok",
     "timestamp": 1633185937976,
     "user": {
      "displayName": "Shovit Bhari",
      "photoUrl": "https://lh3.googleusercontent.com/a-/AOh14Gg8SHY80seEg1yKQZGE4rGmTfOLMow46uexTDDHgXs=s64",
      "userId": "10536014893780956222"
     },
     "user_tz": 420
    },
    "id": "NG6-Tlk6EqaJ",
    "outputId": "cc8c17e8-0da6-493f-c6c8-ad8b5ebed438"
   },
   "outputs": [
    {
     "data": {
      "text/plain": [
       "['Ethics',\n",
       " 'are',\n",
       " 'built',\n",
       " 'right',\n",
       " 'into',\n",
       " 'the',\n",
       " 'ideals',\n",
       " 'and',\n",
       " 'objectives',\n",
       " 'of',\n",
       " 'the',\n",
       " 'United',\n",
       " 'Nations',\n",
       " '']"
      ]
     },
     "execution_count": 7,
     "metadata": {},
     "output_type": "execute_result"
    }
   ],
   "source": [
    "text2"
   ]
  },
  {
   "cell_type": "markdown",
   "metadata": {
    "id": "hNQEnysgEuPF"
   },
   "source": [
    "### List comprehension allows us to find specific words:"
   ]
  },
  {
   "cell_type": "code",
   "execution_count": 8,
   "metadata": {
    "colab": {
     "base_uri": "https://localhost:8080/"
    },
    "executionInfo": {
     "elapsed": 7,
     "status": "ok",
     "timestamp": 1633185938880,
     "user": {
      "displayName": "Shovit Bhari",
      "photoUrl": "https://lh3.googleusercontent.com/a-/AOh14Gg8SHY80seEg1yKQZGE4rGmTfOLMow46uexTDDHgXs=s64",
      "userId": "10536014893780956222"
     },
     "user_tz": 420
    },
    "id": "Ai1LMtuOErrY",
    "outputId": "e45735c1-0b04-4a54-bdb9-babdcfa654a3"
   },
   "outputs": [
    {
     "data": {
      "text/plain": [
       "['Ethics',\n",
       " 'built',\n",
       " 'right',\n",
       " 'into',\n",
       " 'ideals',\n",
       " 'objectives',\n",
       " 'United',\n",
       " 'Nations']"
      ]
     },
     "execution_count": 8,
     "metadata": {},
     "output_type": "execute_result"
    }
   ],
   "source": [
    "# Words that are greater than 3 letters long in text2\n",
    "\n",
    "[w for w in text2 if len(w) > 3] "
   ]
  },
  {
   "cell_type": "code",
   "execution_count": 9,
   "metadata": {
    "colab": {
     "base_uri": "https://localhost:8080/"
    },
    "executionInfo": {
     "elapsed": 4,
     "status": "ok",
     "timestamp": 1633185938880,
     "user": {
      "displayName": "Shovit Bhari",
      "photoUrl": "https://lh3.googleusercontent.com/a-/AOh14Gg8SHY80seEg1yKQZGE4rGmTfOLMow46uexTDDHgXs=s64",
      "userId": "10536014893780956222"
     },
     "user_tz": 420
    },
    "id": "MR33TtIcE4OL",
    "outputId": "630d61fd-7aae-4fd6-ddde-327a1335ab36"
   },
   "outputs": [
    {
     "data": {
      "text/plain": [
       "['Ethics', 'United', 'Nations']"
      ]
     },
     "execution_count": 9,
     "metadata": {},
     "output_type": "execute_result"
    }
   ],
   "source": [
    "[w for w in text2 if w.istitle()] # Capitalized words in text2"
   ]
  },
  {
   "cell_type": "code",
   "execution_count": 10,
   "metadata": {
    "colab": {
     "base_uri": "https://localhost:8080/"
    },
    "executionInfo": {
     "elapsed": 5,
     "status": "ok",
     "timestamp": 1633185939205,
     "user": {
      "displayName": "Shovit Bhari",
      "photoUrl": "https://lh3.googleusercontent.com/a-/AOh14Gg8SHY80seEg1yKQZGE4rGmTfOLMow46uexTDDHgXs=s64",
      "userId": "10536014893780956222"
     },
     "user_tz": 420
    },
    "id": "4G45eqlFjwFv",
    "outputId": "94f01aa3-e7e6-4be8-ea7d-70f48fc9ed90"
   },
   "outputs": [
    {
     "data": {
      "text/plain": [
       "['ethics',\n",
       " 'are',\n",
       " 'built',\n",
       " 'right',\n",
       " 'into',\n",
       " 'the',\n",
       " 'ideals',\n",
       " 'and',\n",
       " 'objectives',\n",
       " 'of',\n",
       " 'the',\n",
       " 'united',\n",
       " 'nations',\n",
       " '']"
      ]
     },
     "execution_count": 10,
     "metadata": {},
     "output_type": "execute_result"
    }
   ],
   "source": [
    "[w.lower() for w in text2]"
   ]
  },
  {
   "cell_type": "code",
   "execution_count": 11,
   "metadata": {
    "colab": {
     "base_uri": "https://localhost:8080/"
    },
    "executionInfo": {
     "elapsed": 11,
     "status": "ok",
     "timestamp": 1633185940864,
     "user": {
      "displayName": "Shovit Bhari",
      "photoUrl": "https://lh3.googleusercontent.com/a-/AOh14Gg8SHY80seEg1yKQZGE4rGmTfOLMow46uexTDDHgXs=s64",
      "userId": "10536014893780956222"
     },
     "user_tz": 420
    },
    "id": "uqhh_sGjF-qf",
    "outputId": "8e0669c4-3bfd-4d66-af0c-f10712c69a48"
   },
   "outputs": [
    {
     "data": {
      "text/plain": [
       "6"
      ]
     },
     "execution_count": 11,
     "metadata": {},
     "output_type": "execute_result"
    }
   ],
   "source": [
    "text3 = 'To be or not to be'\n",
    "text4 = text3.split(' ')\n",
    "\n",
    "len(text4)"
   ]
  },
  {
   "cell_type": "code",
   "execution_count": 12,
   "metadata": {
    "colab": {
     "base_uri": "https://localhost:8080/"
    },
    "executionInfo": {
     "elapsed": 9,
     "status": "ok",
     "timestamp": 1633185940865,
     "user": {
      "displayName": "Shovit Bhari",
      "photoUrl": "https://lh3.googleusercontent.com/a-/AOh14Gg8SHY80seEg1yKQZGE4rGmTfOLMow46uexTDDHgXs=s64",
      "userId": "10536014893780956222"
     },
     "user_tz": 420
    },
    "id": "oYNJTeZEGFdY",
    "outputId": "38b5653e-4156-4118-a0cb-5a918e77e514"
   },
   "outputs": [
    {
     "data": {
      "text/plain": [
       "5"
      ]
     },
     "execution_count": 12,
     "metadata": {},
     "output_type": "execute_result"
    }
   ],
   "source": [
    "\n",
    "len(set(text4))"
   ]
  },
  {
   "cell_type": "code",
   "execution_count": 13,
   "metadata": {
    "colab": {
     "base_uri": "https://localhost:8080/"
    },
    "executionInfo": {
     "elapsed": 6,
     "status": "ok",
     "timestamp": 1633185940865,
     "user": {
      "displayName": "Shovit Bhari",
      "photoUrl": "https://lh3.googleusercontent.com/a-/AOh14Gg8SHY80seEg1yKQZGE4rGmTfOLMow46uexTDDHgXs=s64",
      "userId": "10536014893780956222"
     },
     "user_tz": 420
    },
    "id": "2FzmmSi5GJfk",
    "outputId": "7b2c01f5-f455-413f-a092-60126c243317"
   },
   "outputs": [
    {
     "data": {
      "text/plain": [
       "{'To', 'be', 'not', 'or', 'to'}"
      ]
     },
     "execution_count": 13,
     "metadata": {},
     "output_type": "execute_result"
    }
   ],
   "source": [
    "\n",
    "set(text4)"
   ]
  },
  {
   "cell_type": "code",
   "execution_count": 14,
   "metadata": {
    "colab": {
     "base_uri": "https://localhost:8080/"
    },
    "executionInfo": {
     "elapsed": 7,
     "status": "ok",
     "timestamp": 1633185941804,
     "user": {
      "displayName": "Shovit Bhari",
      "photoUrl": "https://lh3.googleusercontent.com/a-/AOh14Gg8SHY80seEg1yKQZGE4rGmTfOLMow46uexTDDHgXs=s64",
      "userId": "10536014893780956222"
     },
     "user_tz": 420
    },
    "id": "HUtODSZhGMRo",
    "outputId": "b1aec16f-6bd4-49fc-87e3-9c541380a1e7"
   },
   "outputs": [
    {
     "data": {
      "text/plain": [
       "4"
      ]
     },
     "execution_count": 14,
     "metadata": {},
     "output_type": "execute_result"
    }
   ],
   "source": [
    "# .lower converts the string to lowercase.\n",
    "\n",
    "len(set([w.lower() for w in text4])) "
   ]
  },
  {
   "cell_type": "code",
   "execution_count": 15,
   "metadata": {
    "colab": {
     "base_uri": "https://localhost:8080/"
    },
    "executionInfo": {
     "elapsed": 6,
     "status": "ok",
     "timestamp": 1633185941805,
     "user": {
      "displayName": "Shovit Bhari",
      "photoUrl": "https://lh3.googleusercontent.com/a-/AOh14Gg8SHY80seEg1yKQZGE4rGmTfOLMow46uexTDDHgXs=s64",
      "userId": "10536014893780956222"
     },
     "user_tz": 420
    },
    "id": "I8UMmrAiGPu0",
    "outputId": "4c6a9354-d05e-48aa-9630-fd4cbfde25ab"
   },
   "outputs": [
    {
     "data": {
      "text/plain": [
       "['\"Ethics',\n",
       " 'are',\n",
       " 'built',\n",
       " 'right',\n",
       " 'into',\n",
       " 'the',\n",
       " 'ideals',\n",
       " 'and',\n",
       " 'objectives',\n",
       " 'of',\n",
       " 'the',\n",
       " 'United',\n",
       " 'Nations\"',\n",
       " '#UNSG',\n",
       " '@',\n",
       " 'NY',\n",
       " 'Society',\n",
       " 'for',\n",
       " 'Ethical',\n",
       " 'Culture',\n",
       " 'bit.ly/2guVelr']"
      ]
     },
     "execution_count": 15,
     "metadata": {},
     "output_type": "execute_result"
    }
   ],
   "source": [
    "text5 = '\"Ethics are built right into the ideals and objectives of the United Nations\" \\\n",
    "#UNSG @ NY Society for Ethical Culture bit.ly/2guVelr'\n",
    "text6 = text5.split(' ')\n",
    "\n",
    "text6"
   ]
  },
  {
   "cell_type": "code",
   "execution_count": 16,
   "metadata": {
    "colab": {
     "base_uri": "https://localhost:8080/"
    },
    "executionInfo": {
     "elapsed": 7,
     "status": "ok",
     "timestamp": 1633185942084,
     "user": {
      "displayName": "Shovit Bhari",
      "photoUrl": "https://lh3.googleusercontent.com/a-/AOh14Gg8SHY80seEg1yKQZGE4rGmTfOLMow46uexTDDHgXs=s64",
      "userId": "10536014893780956222"
     },
     "user_tz": 420
    },
    "id": "UUo0t8E9GTJF",
    "outputId": "22126512-c1a6-4de4-acee-f213ca9d88b7"
   },
   "outputs": [
    {
     "data": {
      "text/plain": [
       "['#UNSG']"
      ]
     },
     "execution_count": 16,
     "metadata": {},
     "output_type": "execute_result"
    }
   ],
   "source": [
    "[w for w in text6 if w.startswith('#')]"
   ]
  },
  {
   "cell_type": "code",
   "execution_count": 17,
   "metadata": {
    "colab": {
     "base_uri": "https://localhost:8080/"
    },
    "executionInfo": {
     "elapsed": 6,
     "status": "ok",
     "timestamp": 1633185942085,
     "user": {
      "displayName": "Shovit Bhari",
      "photoUrl": "https://lh3.googleusercontent.com/a-/AOh14Gg8SHY80seEg1yKQZGE4rGmTfOLMow46uexTDDHgXs=s64",
      "userId": "10536014893780956222"
     },
     "user_tz": 420
    },
    "id": "xyNEm8NWGYEJ",
    "outputId": "7bea7192-3bdc-4750-af53-268f96502c11"
   },
   "outputs": [
    {
     "data": {
      "text/plain": [
       "['@']"
      ]
     },
     "execution_count": 17,
     "metadata": {},
     "output_type": "execute_result"
    }
   ],
   "source": [
    "[w for w in text6 if w.startswith('@')]"
   ]
  },
  {
   "cell_type": "markdown",
   "metadata": {
    "id": "kGLTiqJ6G80B"
   },
   "source": [
    "# NLP Basics: Learning how to use regular expressions(REGEX)\n",
    "\n",
    "### Using regular expressions in Python\n",
    "\n",
    "Python's `re` package is the most commonly used regex resource. More details can be found [here](https://docs.python.org/3/library/re.html).\n",
    "\n",
    "We can use regular expressions to help us with more complex parsing.\n",
    "\n",
    "For example '@[A-Za-z0-9_]+' will return all words that:\n",
    "\n",
    "* start with '@' and are followed by at least one:\n",
    "* capital letter ('A-Z')\n",
    "* lowercase letter ('a-z')\n",
    "* number ('0-9')\n",
    "* or underscore ('_')\n",
    "\n",
    "![Meta Character](MetaCharacter.png)\n",
    "\n",
    "![MetaSymbols](MCharacter.png)\n",
    "\n",
    "![MetaRepetitions](Repetitions.png)\n",
    "\n",
    "\n",
    "\n",
    "\n",
    "\n",
    "\n"
   ]
  },
  {
   "cell_type": "code",
   "execution_count": 18,
   "metadata": {
    "id": "ARnSIzc3GbL8"
   },
   "outputs": [],
   "source": [
    "\n",
    "text7 = '@UN @UN_Women \"Ethics are built right into the ideals and objectives of the United Nations\" \\\n",
    "#UNSG @ NY Society for Ethical Culture bit.ly/2guVelr'\n",
    "text8 = text7.split(' ')"
   ]
  },
  {
   "cell_type": "code",
   "execution_count": 19,
   "metadata": {
    "colab": {
     "base_uri": "https://localhost:8080/"
    },
    "executionInfo": {
     "elapsed": 369,
     "status": "ok",
     "timestamp": 1633179965098,
     "user": {
      "displayName": "Shovit Bhari",
      "photoUrl": "https://lh3.googleusercontent.com/a-/AOh14Gg8SHY80seEg1yKQZGE4rGmTfOLMow46uexTDDHgXs=s64",
      "userId": "10536014893780956222"
     },
     "user_tz": 420
    },
    "id": "EqsEHI5NGlRc",
    "outputId": "eeb9c3f9-27d1-47b5-99aa-ad77d6e8cf72"
   },
   "outputs": [
    {
     "data": {
      "text/plain": [
       "['@UN', '@UN_Women']"
      ]
     },
     "execution_count": 19,
     "metadata": {},
     "output_type": "execute_result"
    }
   ],
   "source": [
    "\n",
    "import re \n",
    "\n",
    "[w for w in text8 if re.search('@[A-Za-z0-9_]+', w)]"
   ]
  },
  {
   "cell_type": "code",
   "execution_count": 20,
   "metadata": {
    "colab": {
     "base_uri": "https://localhost:8080/"
    },
    "executionInfo": {
     "elapsed": 226,
     "status": "ok",
     "timestamp": 1633179966500,
     "user": {
      "displayName": "Shovit Bhari",
      "photoUrl": "https://lh3.googleusercontent.com/a-/AOh14Gg8SHY80seEg1yKQZGE4rGmTfOLMow46uexTDDHgXs=s64",
      "userId": "10536014893780956222"
     },
     "user_tz": 420
    },
    "id": "CKNjqCJ0HG8C",
    "outputId": "a3538053-180b-4695-e6c8-3e732c8dabd9"
   },
   "outputs": [
    {
     "data": {
      "text/plain": [
       "['#UNSG']"
      ]
     },
     "execution_count": 20,
     "metadata": {},
     "output_type": "execute_result"
    }
   ],
   "source": [
    "[w for w in text8 if re.search('#[A-Za-z0-9_]+', w)]"
   ]
  },
  {
   "cell_type": "code",
   "execution_count": 21,
   "metadata": {
    "id": "3NzRZOZ2kKeh"
   },
   "outputs": [],
   "source": [
    "\n",
    "re_test = 'This is a made up string to test 2 different regex methods'\n",
    "re_test_messy = 'This      is a made up     string to test 2    different regex methods'\n",
    "re_test_messy1 = 'This-is-a-made/up.string*to>>>>test----2\"\"\"\"\"\"different~regex-methods'"
   ]
  },
  {
   "cell_type": "markdown",
   "metadata": {
    "id": "mK8BcNsDkuCk"
   },
   "source": [
    "### Splitting a sentence into a list of words"
   ]
  },
  {
   "cell_type": "code",
   "execution_count": 22,
   "metadata": {
    "colab": {
     "base_uri": "https://localhost:8080/"
    },
    "executionInfo": {
     "elapsed": 218,
     "status": "ok",
     "timestamp": 1633179986299,
     "user": {
      "displayName": "Shovit Bhari",
      "photoUrl": "https://lh3.googleusercontent.com/a-/AOh14Gg8SHY80seEg1yKQZGE4rGmTfOLMow46uexTDDHgXs=s64",
      "userId": "10536014893780956222"
     },
     "user_tz": 420
    },
    "id": "iQvADqPbkrqL",
    "outputId": "ff073993-2420-4ec3-f4ec-e7274daa55b2"
   },
   "outputs": [
    {
     "data": {
      "text/plain": [
       "['This',\n",
       " 'is',\n",
       " 'a',\n",
       " 'made',\n",
       " 'up',\n",
       " 'string',\n",
       " 'to',\n",
       " 'test',\n",
       " '2',\n",
       " 'different',\n",
       " 'regex',\n",
       " 'methods']"
      ]
     },
     "execution_count": 22,
     "metadata": {},
     "output_type": "execute_result"
    }
   ],
   "source": [
    "re.split('\\s', re_test)"
   ]
  },
  {
   "cell_type": "code",
   "execution_count": 23,
   "metadata": {
    "colab": {
     "base_uri": "https://localhost:8080/"
    },
    "executionInfo": {
     "elapsed": 225,
     "status": "ok",
     "timestamp": 1633179987633,
     "user": {
      "displayName": "Shovit Bhari",
      "photoUrl": "https://lh3.googleusercontent.com/a-/AOh14Gg8SHY80seEg1yKQZGE4rGmTfOLMow46uexTDDHgXs=s64",
      "userId": "10536014893780956222"
     },
     "user_tz": 420
    },
    "id": "miPyjI7qlWu7",
    "outputId": "b1486fa5-0b9e-4de8-99b4-27b00eab00a3"
   },
   "outputs": [
    {
     "data": {
      "text/plain": [
       "['This',\n",
       " '',\n",
       " '',\n",
       " '',\n",
       " '',\n",
       " '',\n",
       " 'is',\n",
       " 'a',\n",
       " 'made',\n",
       " 'up',\n",
       " '',\n",
       " '',\n",
       " '',\n",
       " '',\n",
       " 'string',\n",
       " 'to',\n",
       " 'test',\n",
       " '2',\n",
       " '',\n",
       " '',\n",
       " '',\n",
       " 'different',\n",
       " 'regex',\n",
       " 'methods']"
      ]
     },
     "execution_count": 23,
     "metadata": {},
     "output_type": "execute_result"
    }
   ],
   "source": [
    "re.split('\\s', re_test_messy)"
   ]
  },
  {
   "cell_type": "code",
   "execution_count": 24,
   "metadata": {
    "colab": {
     "base_uri": "https://localhost:8080/"
    },
    "executionInfo": {
     "elapsed": 136,
     "status": "ok",
     "timestamp": 1633120796799,
     "user": {
      "displayName": "Shovit Bhari",
      "photoUrl": "https://lh3.googleusercontent.com/a-/AOh14Gg8SHY80seEg1yKQZGE4rGmTfOLMow46uexTDDHgXs=s64",
      "userId": "10536014893780956222"
     },
     "user_tz": 420
    },
    "id": "MfKSbqJ5lbC4",
    "outputId": "faee6058-462d-4518-b68c-305774f38361"
   },
   "outputs": [
    {
     "data": {
      "text/plain": [
       "['This',\n",
       " 'is',\n",
       " 'a',\n",
       " 'made',\n",
       " 'up',\n",
       " 'string',\n",
       " 'to',\n",
       " 'test',\n",
       " '2',\n",
       " 'different',\n",
       " 'regex',\n",
       " 'methods']"
      ]
     },
     "execution_count": 24,
     "metadata": {},
     "output_type": "execute_result"
    }
   ],
   "source": [
    "re.split('\\s+', re_test_messy)"
   ]
  },
  {
   "cell_type": "code",
   "execution_count": 25,
   "metadata": {
    "colab": {
     "base_uri": "https://localhost:8080/"
    },
    "executionInfo": {
     "elapsed": 131,
     "status": "ok",
     "timestamp": 1633120804237,
     "user": {
      "displayName": "Shovit Bhari",
      "photoUrl": "https://lh3.googleusercontent.com/a-/AOh14Gg8SHY80seEg1yKQZGE4rGmTfOLMow46uexTDDHgXs=s64",
      "userId": "10536014893780956222"
     },
     "user_tz": 420
    },
    "id": "Jgdc8-Wclb8n",
    "outputId": "1c334786-37cd-4b0e-b8df-bdb0abb10490"
   },
   "outputs": [
    {
     "data": {
      "text/plain": [
       "['This-is-a-made/up.string*to>>>>test----2\"\"\"\"\"\"different~regex-methods']"
      ]
     },
     "execution_count": 25,
     "metadata": {},
     "output_type": "execute_result"
    }
   ],
   "source": [
    "re.split('\\s+', re_test_messy1)"
   ]
  },
  {
   "cell_type": "code",
   "execution_count": 26,
   "metadata": {
    "colab": {
     "base_uri": "https://localhost:8080/"
    },
    "executionInfo": {
     "elapsed": 125,
     "status": "ok",
     "timestamp": 1633120814874,
     "user": {
      "displayName": "Shovit Bhari",
      "photoUrl": "https://lh3.googleusercontent.com/a-/AOh14Gg8SHY80seEg1yKQZGE4rGmTfOLMow46uexTDDHgXs=s64",
      "userId": "10536014893780956222"
     },
     "user_tz": 420
    },
    "id": "ph_Ov8SJldw7",
    "outputId": "f78589a1-4fe2-4d16-d9a3-e8defea179d4"
   },
   "outputs": [
    {
     "data": {
      "text/plain": [
       "['This',\n",
       " 'is',\n",
       " 'a',\n",
       " 'made',\n",
       " 'up',\n",
       " 'string',\n",
       " 'to',\n",
       " 'test',\n",
       " '2',\n",
       " 'different',\n",
       " 'regex',\n",
       " 'methods']"
      ]
     },
     "execution_count": 26,
     "metadata": {},
     "output_type": "execute_result"
    }
   ],
   "source": [
    "re.split('\\W+', re_test_messy1)"
   ]
  },
  {
   "cell_type": "code",
   "execution_count": 27,
   "metadata": {
    "colab": {
     "base_uri": "https://localhost:8080/"
    },
    "executionInfo": {
     "elapsed": 126,
     "status": "ok",
     "timestamp": 1633120821607,
     "user": {
      "displayName": "Shovit Bhari",
      "photoUrl": "https://lh3.googleusercontent.com/a-/AOh14Gg8SHY80seEg1yKQZGE4rGmTfOLMow46uexTDDHgXs=s64",
      "userId": "10536014893780956222"
     },
     "user_tz": 420
    },
    "id": "66ai8-kVlgWg",
    "outputId": "633e7075-dc35-4962-c3a1-ac73f79484c0"
   },
   "outputs": [
    {
     "data": {
      "text/plain": [
       "['This',\n",
       " 'is',\n",
       " 'a',\n",
       " 'made',\n",
       " 'up',\n",
       " 'string',\n",
       " 'to',\n",
       " 'test',\n",
       " '2',\n",
       " 'different',\n",
       " 'regex',\n",
       " 'methods']"
      ]
     },
     "execution_count": 27,
     "metadata": {},
     "output_type": "execute_result"
    }
   ],
   "source": [
    "re.findall('\\S+', re_test)"
   ]
  },
  {
   "cell_type": "code",
   "execution_count": 28,
   "metadata": {
    "colab": {
     "base_uri": "https://localhost:8080/"
    },
    "executionInfo": {
     "elapsed": 134,
     "status": "ok",
     "timestamp": 1633120827837,
     "user": {
      "displayName": "Shovit Bhari",
      "photoUrl": "https://lh3.googleusercontent.com/a-/AOh14Gg8SHY80seEg1yKQZGE4rGmTfOLMow46uexTDDHgXs=s64",
      "userId": "10536014893780956222"
     },
     "user_tz": 420
    },
    "id": "2Hb9ZW1qliAM",
    "outputId": "b6c058a7-ebf0-43bc-c548-b3569bdb695c"
   },
   "outputs": [
    {
     "data": {
      "text/plain": [
       "['This',\n",
       " 'is',\n",
       " 'a',\n",
       " 'made',\n",
       " 'up',\n",
       " 'string',\n",
       " 'to',\n",
       " 'test',\n",
       " '2',\n",
       " 'different',\n",
       " 'regex',\n",
       " 'methods']"
      ]
     },
     "execution_count": 28,
     "metadata": {},
     "output_type": "execute_result"
    }
   ],
   "source": [
    "re.findall('\\S+', re_test_messy)"
   ]
  },
  {
   "cell_type": "code",
   "execution_count": 29,
   "metadata": {
    "colab": {
     "base_uri": "https://localhost:8080/"
    },
    "executionInfo": {
     "elapsed": 126,
     "status": "ok",
     "timestamp": 1633120836008,
     "user": {
      "displayName": "Shovit Bhari",
      "photoUrl": "https://lh3.googleusercontent.com/a-/AOh14Gg8SHY80seEg1yKQZGE4rGmTfOLMow46uexTDDHgXs=s64",
      "userId": "10536014893780956222"
     },
     "user_tz": 420
    },
    "id": "3t98wHoCljhc",
    "outputId": "24d064eb-bfc5-42eb-c569-c2d979f0191e"
   },
   "outputs": [
    {
     "data": {
      "text/plain": [
       "['This-is-a-made/up.string*to>>>>test----2\"\"\"\"\"\"different~regex-methods']"
      ]
     },
     "execution_count": 29,
     "metadata": {},
     "output_type": "execute_result"
    }
   ],
   "source": [
    "re.findall('\\S+', re_test_messy1)"
   ]
  },
  {
   "cell_type": "code",
   "execution_count": 30,
   "metadata": {
    "colab": {
     "base_uri": "https://localhost:8080/"
    },
    "executionInfo": {
     "elapsed": 157,
     "status": "ok",
     "timestamp": 1633120859498,
     "user": {
      "displayName": "Shovit Bhari",
      "photoUrl": "https://lh3.googleusercontent.com/a-/AOh14Gg8SHY80seEg1yKQZGE4rGmTfOLMow46uexTDDHgXs=s64",
      "userId": "10536014893780956222"
     },
     "user_tz": 420
    },
    "id": "VN4j5tOPllg5",
    "outputId": "aeef7a5c-b833-4341-d9a9-368bb622a1ce"
   },
   "outputs": [
    {
     "data": {
      "text/plain": [
       "['This',\n",
       " 'is',\n",
       " 'a',\n",
       " 'made',\n",
       " 'up',\n",
       " 'string',\n",
       " 'to',\n",
       " 'test',\n",
       " '2',\n",
       " 'different',\n",
       " 'regex',\n",
       " 'methods']"
      ]
     },
     "execution_count": 30,
     "metadata": {},
     "output_type": "execute_result"
    }
   ],
   "source": [
    "re.findall('\\w+', re_test_messy1)"
   ]
  },
  {
   "cell_type": "code",
   "execution_count": null,
   "metadata": {
    "id": "4fdMuFe4lrQK"
   },
   "outputs": [],
   "source": []
  },
  {
   "cell_type": "markdown",
   "metadata": {
    "id": "m28opucNls0Z"
   },
   "source": [
    "### Replacing a specific string"
   ]
  },
  {
   "cell_type": "code",
   "execution_count": 31,
   "metadata": {
    "id": "A9E3ZUBklwqo"
   },
   "outputs": [],
   "source": [
    "pep8_test = 'I try to follow PEP8 guidelines'\n",
    "pep7_test = 'I try to follow PEP7 guidelines'\n",
    "peep8_test = 'I try to follow 8PEEP8 guidelines'"
   ]
  },
  {
   "cell_type": "code",
   "execution_count": 32,
   "metadata": {
    "colab": {
     "base_uri": "https://localhost:8080/"
    },
    "executionInfo": {
     "elapsed": 126,
     "status": "ok",
     "timestamp": 1633120900365,
     "user": {
      "displayName": "Shovit Bhari",
      "photoUrl": "https://lh3.googleusercontent.com/a-/AOh14Gg8SHY80seEg1yKQZGE4rGmTfOLMow46uexTDDHgXs=s64",
      "userId": "10536014893780956222"
     },
     "user_tz": 420
    },
    "id": "B5GAWtNClzCh",
    "outputId": "141104fe-1db9-43c3-e4e0-358da725f8b8"
   },
   "outputs": [
    {
     "data": {
      "text/plain": [
       "['try', 'to', 'follow', 'guidelines']"
      ]
     },
     "execution_count": 32,
     "metadata": {},
     "output_type": "execute_result"
    }
   ],
   "source": [
    "re.findall('[a-z]+', pep8_test)"
   ]
  },
  {
   "cell_type": "code",
   "execution_count": 33,
   "metadata": {
    "colab": {
     "base_uri": "https://localhost:8080/"
    },
    "executionInfo": {
     "elapsed": 131,
     "status": "ok",
     "timestamp": 1633120907615,
     "user": {
      "displayName": "Shovit Bhari",
      "photoUrl": "https://lh3.googleusercontent.com/a-/AOh14Gg8SHY80seEg1yKQZGE4rGmTfOLMow46uexTDDHgXs=s64",
      "userId": "10536014893780956222"
     },
     "user_tz": 420
    },
    "id": "wwS4ghWtl1Or",
    "outputId": "af08c8ff-c717-4006-e403-8f56875daef5"
   },
   "outputs": [
    {
     "data": {
      "text/plain": [
       "['PEEP8']"
      ]
     },
     "execution_count": 33,
     "metadata": {},
     "output_type": "execute_result"
    }
   ],
   "source": [
    "re.findall('[A-Z]+[0-9]+', peep8_test)"
   ]
  },
  {
   "cell_type": "code",
   "execution_count": 34,
   "metadata": {
    "colab": {
     "base_uri": "https://localhost:8080/"
    },
    "executionInfo": {
     "elapsed": 130,
     "status": "ok",
     "timestamp": 1633120926982,
     "user": {
      "displayName": "Shovit Bhari",
      "photoUrl": "https://lh3.googleusercontent.com/a-/AOh14Gg8SHY80seEg1yKQZGE4rGmTfOLMow46uexTDDHgXs=s64",
      "userId": "10536014893780956222"
     },
     "user_tz": 420
    },
    "id": "qjAaR5hhl2_-",
    "outputId": "2ef6bada-4416-4c2f-8043-8f8189b686ce"
   },
   "outputs": [
    {
     "data": {
      "text/plain": [
       "['8PEEP8']"
      ]
     },
     "execution_count": 34,
     "metadata": {},
     "output_type": "execute_result"
    }
   ],
   "source": [
    "re.findall('[0-9]+[A-Z]+[0-9]+', peep8_test)"
   ]
  },
  {
   "cell_type": "code",
   "execution_count": 35,
   "metadata": {
    "colab": {
     "base_uri": "https://localhost:8080/",
     "height": 35
    },
    "executionInfo": {
     "elapsed": 153,
     "status": "ok",
     "timestamp": 1633120936033,
     "user": {
      "displayName": "Shovit Bhari",
      "photoUrl": "https://lh3.googleusercontent.com/a-/AOh14Gg8SHY80seEg1yKQZGE4rGmTfOLMow46uexTDDHgXs=s64",
      "userId": "10536014893780956222"
     },
     "user_tz": 420
    },
    "id": "jIQCxI3Ql7uf",
    "outputId": "ba975a32-3fcd-4699-870d-e6d2e7eb98f6"
   },
   "outputs": [
    {
     "data": {
      "text/plain": [
       "'I try to follow 8PEP8 Python Styleguide guidelines'"
      ]
     },
     "execution_count": 35,
     "metadata": {},
     "output_type": "execute_result"
    }
   ],
   "source": [
    "re.sub('[A-Z]+[0-9]+', 'PEP8 Python Styleguide', peep8_test)"
   ]
  },
  {
   "cell_type": "markdown",
   "metadata": {
    "id": "ZeyYH812mCnV"
   },
   "source": [
    "### Other examples of regex methods\n",
    "\n",
    "- re.search()\n",
    "- re.match()\n",
    "- re.fullmatch()\n",
    "- re.finditer()\n",
    "- re.escape()"
   ]
  },
  {
   "cell_type": "code",
   "execution_count": 36,
   "metadata": {
    "id": "4j4EgTsUl97L"
   },
   "outputs": [],
   "source": [
    "texts = [\"(800)-800-1111 call for free goodies\",\n",
    "         \"(800) 800-1111 call for free goodies\",\n",
    "         \"8008001111 call for free goodies\",\n",
    "         \"800-800-1111 call for free goodies\",\n",
    "        ]"
   ]
  },
  {
   "cell_type": "code",
   "execution_count": 37,
   "metadata": {
    "colab": {
     "base_uri": "https://localhost:8080/"
    },
    "executionInfo": {
     "elapsed": 147,
     "status": "ok",
     "timestamp": 1633121046782,
     "user": {
      "displayName": "Shovit Bhari",
      "photoUrl": "https://lh3.googleusercontent.com/a-/AOh14Gg8SHY80seEg1yKQZGE4rGmTfOLMow46uexTDDHgXs=s64",
      "userId": "10536014893780956222"
     },
     "user_tz": 420
    },
    "id": "gHw-kBZWmMUM",
    "outputId": "d08b7daf-eb87-4576-f55c-5a8230c1efa7"
   },
   "outputs": [
    {
     "name": "stdout",
     "output_type": "stream",
     "text": [
      "(800)-800-1111 call for free goodies ['(800)-800-1111']\n",
      "(800) 800-1111 call for free goodies ['(800) 800-1111']\n",
      "8008001111 call for free goodies []\n",
      "800-800-1111 call for free goodies []\n"
     ]
    }
   ],
   "source": [
    "for text in texts:\n",
    "  phones = re.findall('\\(\\d{3}\\D{0,3}\\d{3}\\D{0,3}\\d{4}', text)\n",
    "  print(text, phones)"
   ]
  },
  {
   "cell_type": "code",
   "execution_count": 38,
   "metadata": {
    "colab": {
     "base_uri": "https://localhost:8080/"
    },
    "executionInfo": {
     "elapsed": 127,
     "status": "ok",
     "timestamp": 1633121114359,
     "user": {
      "displayName": "Shovit Bhari",
      "photoUrl": "https://lh3.googleusercontent.com/a-/AOh14Gg8SHY80seEg1yKQZGE4rGmTfOLMow46uexTDDHgXs=s64",
      "userId": "10536014893780956222"
     },
     "user_tz": 420
    },
    "id": "F8ZGZn6MmY97",
    "outputId": "030b7cf7-80db-4130-af80-6dc82b419140"
   },
   "outputs": [
    {
     "name": "stdout",
     "output_type": "stream",
     "text": [
      "(800)-800-1111 call for free goodies []\n",
      "(800) 800-1111 call for free goodies []\n",
      "8008001111 call for free goodies ['8008001111']\n",
      "800-800-1111 call for free goodies ['800-800-1111']\n"
     ]
    }
   ],
   "source": [
    "for text in texts:\n",
    "  phone_regex = re.compile(r\"(?:\\+ *)?\\d[\\d\\- ]{7,}\\d\")\n",
    "  phone = phone_regex.findall(text)\n",
    "  print(text, phone)"
   ]
  },
  {
   "cell_type": "markdown",
   "metadata": {
    "id": "oR4uvXRCm4Dt"
   },
   "source": [
    "# Working with Text Data in pandas"
   ]
  },
  {
   "cell_type": "code",
   "execution_count": 39,
   "metadata": {
    "colab": {
     "base_uri": "https://localhost:8080/",
     "height": 206
    },
    "executionInfo": {
     "elapsed": 135,
     "status": "ok",
     "timestamp": 1633121833388,
     "user": {
      "displayName": "Shovit Bhari",
      "photoUrl": "https://lh3.googleusercontent.com/a-/AOh14Gg8SHY80seEg1yKQZGE4rGmTfOLMow46uexTDDHgXs=s64",
      "userId": "10536014893780956222"
     },
     "user_tz": 420
    },
    "id": "joyy4nOVmljT",
    "outputId": "53bd4d86-79c2-43ef-8b3f-ea6ac1a62368"
   },
   "outputs": [
    {
     "data": {
      "text/html": [
       "<div>\n",
       "<style scoped>\n",
       "    .dataframe tbody tr th:only-of-type {\n",
       "        vertical-align: middle;\n",
       "    }\n",
       "\n",
       "    .dataframe tbody tr th {\n",
       "        vertical-align: top;\n",
       "    }\n",
       "\n",
       "    .dataframe thead th {\n",
       "        text-align: right;\n",
       "    }\n",
       "</style>\n",
       "<table border=\"1\" class=\"dataframe\">\n",
       "  <thead>\n",
       "    <tr style=\"text-align: right;\">\n",
       "      <th></th>\n",
       "      <th>text</th>\n",
       "    </tr>\n",
       "  </thead>\n",
       "  <tbody>\n",
       "    <tr>\n",
       "      <th>0</th>\n",
       "      <td>Monday: The doctor's appointment is at 2:45pm.</td>\n",
       "    </tr>\n",
       "    <tr>\n",
       "      <th>1</th>\n",
       "      <td>Tuesday: The dentist's appointment is at 11:30...</td>\n",
       "    </tr>\n",
       "    <tr>\n",
       "      <th>2</th>\n",
       "      <td>Wednesday: At 7:00pm, there is a basketball game!</td>\n",
       "    </tr>\n",
       "    <tr>\n",
       "      <th>3</th>\n",
       "      <td>Thursday: Be back home by 11:15 pm at the latest.</td>\n",
       "    </tr>\n",
       "    <tr>\n",
       "      <th>4</th>\n",
       "      <td>Friday: Take the train at 08:10 am, arrive at ...</td>\n",
       "    </tr>\n",
       "  </tbody>\n",
       "</table>\n",
       "</div>"
      ],
      "text/plain": [
       "                                                text\n",
       "0     Monday: The doctor's appointment is at 2:45pm.\n",
       "1  Tuesday: The dentist's appointment is at 11:30...\n",
       "2  Wednesday: At 7:00pm, there is a basketball game!\n",
       "3  Thursday: Be back home by 11:15 pm at the latest.\n",
       "4  Friday: Take the train at 08:10 am, arrive at ..."
      ]
     },
     "execution_count": 39,
     "metadata": {},
     "output_type": "execute_result"
    }
   ],
   "source": [
    "import pandas as pd\n",
    "\n",
    "time_sentences = [\"Monday: The doctor's appointment is at 2:45pm.\", \n",
    "                  \"Tuesday: The dentist's appointment is at 11:30 am.\",\n",
    "                  \"Wednesday: At 7:00pm, there is a basketball game!\",\n",
    "                  \"Thursday: Be back home by 11:15 pm at the latest.\",\n",
    "                  \"Friday: Take the train at 08:10 am, arrive at 09:00am.\"]\n",
    "\n",
    "df = pd.DataFrame(time_sentences, columns=['text'])\n",
    "df"
   ]
  },
  {
   "cell_type": "code",
   "execution_count": 40,
   "metadata": {
    "colab": {
     "base_uri": "https://localhost:8080/",
     "height": 35
    },
    "executionInfo": {
     "elapsed": 5,
     "status": "ok",
     "timestamp": 1633121834706,
     "user": {
      "displayName": "Shovit Bhari",
      "photoUrl": "https://lh3.googleusercontent.com/a-/AOh14Gg8SHY80seEg1yKQZGE4rGmTfOLMow46uexTDDHgXs=s64",
      "userId": "10536014893780956222"
     },
     "user_tz": 420
    },
    "id": "-38A5ZYDoo06",
    "outputId": "d790a832-7119-414a-955b-ddc2ec0e8d66"
   },
   "outputs": [
    {
     "data": {
      "text/plain": [
       "'!\"#$%&\\'()*+,-./:;<=>?@[\\\\]^_`{|}~'"
      ]
     },
     "execution_count": 40,
     "metadata": {},
     "output_type": "execute_result"
    }
   ],
   "source": [
    "import string\n",
    "string.punctuation"
   ]
  },
  {
   "cell_type": "markdown",
   "metadata": {
    "id": "WA8wcfaxooOo"
   },
   "source": []
  },
  {
   "cell_type": "code",
   "execution_count": 41,
   "metadata": {
    "colab": {
     "base_uri": "https://localhost:8080/"
    },
    "executionInfo": {
     "elapsed": 125,
     "status": "ok",
     "timestamp": 1633121836737,
     "user": {
      "displayName": "Shovit Bhari",
      "photoUrl": "https://lh3.googleusercontent.com/a-/AOh14Gg8SHY80seEg1yKQZGE4rGmTfOLMow46uexTDDHgXs=s64",
      "userId": "10536014893780956222"
     },
     "user_tz": 420
    },
    "id": "3D5Abkham8EC",
    "outputId": "44cab40d-708e-471b-cf42-077b63290b86"
   },
   "outputs": [
    {
     "name": "stdout",
     "output_type": "stream",
     "text": [
      "['#regex', '#pandas', '#python']\n"
     ]
    }
   ],
   "source": [
    "tweet = \"@nltk Text analysis is awesome! #regex #pandas #python\"\n",
    "\n",
    "print([word for word in tweet.split() if word.startswith('#')])"
   ]
  },
  {
   "cell_type": "code",
   "execution_count": 42,
   "metadata": {
    "id": "v2IHnxnbm-yb"
   },
   "outputs": [],
   "source": [
    "# find the number of characters for each string in df['text']\n",
    "df['length']=df['text'].str.len()"
   ]
  },
  {
   "cell_type": "code",
   "execution_count": 43,
   "metadata": {
    "colab": {
     "base_uri": "https://localhost:8080/",
     "height": 206
    },
    "executionInfo": {
     "elapsed": 134,
     "status": "ok",
     "timestamp": 1633121838682,
     "user": {
      "displayName": "Shovit Bhari",
      "photoUrl": "https://lh3.googleusercontent.com/a-/AOh14Gg8SHY80seEg1yKQZGE4rGmTfOLMow46uexTDDHgXs=s64",
      "userId": "10536014893780956222"
     },
     "user_tz": 420
    },
    "id": "A2k2eG1dnB5u",
    "outputId": "6f081e71-96a6-490f-b58b-8a590910f632"
   },
   "outputs": [
    {
     "data": {
      "text/html": [
       "<div>\n",
       "<style scoped>\n",
       "    .dataframe tbody tr th:only-of-type {\n",
       "        vertical-align: middle;\n",
       "    }\n",
       "\n",
       "    .dataframe tbody tr th {\n",
       "        vertical-align: top;\n",
       "    }\n",
       "\n",
       "    .dataframe thead th {\n",
       "        text-align: right;\n",
       "    }\n",
       "</style>\n",
       "<table border=\"1\" class=\"dataframe\">\n",
       "  <thead>\n",
       "    <tr style=\"text-align: right;\">\n",
       "      <th></th>\n",
       "      <th>text</th>\n",
       "      <th>length</th>\n",
       "    </tr>\n",
       "  </thead>\n",
       "  <tbody>\n",
       "    <tr>\n",
       "      <th>0</th>\n",
       "      <td>Monday: The doctor's appointment is at 2:45pm.</td>\n",
       "      <td>46</td>\n",
       "    </tr>\n",
       "    <tr>\n",
       "      <th>1</th>\n",
       "      <td>Tuesday: The dentist's appointment is at 11:30...</td>\n",
       "      <td>50</td>\n",
       "    </tr>\n",
       "    <tr>\n",
       "      <th>2</th>\n",
       "      <td>Wednesday: At 7:00pm, there is a basketball game!</td>\n",
       "      <td>49</td>\n",
       "    </tr>\n",
       "    <tr>\n",
       "      <th>3</th>\n",
       "      <td>Thursday: Be back home by 11:15 pm at the latest.</td>\n",
       "      <td>49</td>\n",
       "    </tr>\n",
       "    <tr>\n",
       "      <th>4</th>\n",
       "      <td>Friday: Take the train at 08:10 am, arrive at ...</td>\n",
       "      <td>54</td>\n",
       "    </tr>\n",
       "  </tbody>\n",
       "</table>\n",
       "</div>"
      ],
      "text/plain": [
       "                                                text  length\n",
       "0     Monday: The doctor's appointment is at 2:45pm.      46\n",
       "1  Tuesday: The dentist's appointment is at 11:30...      50\n",
       "2  Wednesday: At 7:00pm, there is a basketball game!      49\n",
       "3  Thursday: Be back home by 11:15 pm at the latest.      49\n",
       "4  Friday: Take the train at 08:10 am, arrive at ...      54"
      ]
     },
     "execution_count": 43,
     "metadata": {},
     "output_type": "execute_result"
    }
   ],
   "source": [
    "df.head()"
   ]
  },
  {
   "cell_type": "code",
   "execution_count": 44,
   "metadata": {
    "colab": {
     "base_uri": "https://localhost:8080/",
     "height": 206
    },
    "executionInfo": {
     "elapsed": 128,
     "status": "ok",
     "timestamp": 1633121839813,
     "user": {
      "displayName": "Shovit Bhari",
      "photoUrl": "https://lh3.googleusercontent.com/a-/AOh14Gg8SHY80seEg1yKQZGE4rGmTfOLMow46uexTDDHgXs=s64",
      "userId": "10536014893780956222"
     },
     "user_tz": 420
    },
    "id": "3zqGq_H6pJzC",
    "outputId": "369d93b0-eb3e-4186-cebf-13033644986b"
   },
   "outputs": [
    {
     "data": {
      "text/html": [
       "<div>\n",
       "<style scoped>\n",
       "    .dataframe tbody tr th:only-of-type {\n",
       "        vertical-align: middle;\n",
       "    }\n",
       "\n",
       "    .dataframe tbody tr th {\n",
       "        vertical-align: top;\n",
       "    }\n",
       "\n",
       "    .dataframe thead th {\n",
       "        text-align: right;\n",
       "    }\n",
       "</style>\n",
       "<table border=\"1\" class=\"dataframe\">\n",
       "  <thead>\n",
       "    <tr style=\"text-align: right;\">\n",
       "      <th></th>\n",
       "      <th>text</th>\n",
       "      <th>length</th>\n",
       "      <th>punct%</th>\n",
       "    </tr>\n",
       "  </thead>\n",
       "  <tbody>\n",
       "    <tr>\n",
       "      <th>0</th>\n",
       "      <td>Monday: The doctor's appointment is at 2:45pm.</td>\n",
       "      <td>46</td>\n",
       "      <td>10.0</td>\n",
       "    </tr>\n",
       "    <tr>\n",
       "      <th>1</th>\n",
       "      <td>Tuesday: The dentist's appointment is at 11:30...</td>\n",
       "      <td>50</td>\n",
       "      <td>9.3</td>\n",
       "    </tr>\n",
       "    <tr>\n",
       "      <th>2</th>\n",
       "      <td>Wednesday: At 7:00pm, there is a basketball game!</td>\n",
       "      <td>49</td>\n",
       "      <td>9.5</td>\n",
       "    </tr>\n",
       "    <tr>\n",
       "      <th>3</th>\n",
       "      <td>Thursday: Be back home by 11:15 pm at the latest.</td>\n",
       "      <td>49</td>\n",
       "      <td>7.5</td>\n",
       "    </tr>\n",
       "    <tr>\n",
       "      <th>4</th>\n",
       "      <td>Friday: Take the train at 08:10 am, arrive at ...</td>\n",
       "      <td>54</td>\n",
       "      <td>11.1</td>\n",
       "    </tr>\n",
       "  </tbody>\n",
       "</table>\n",
       "</div>"
      ],
      "text/plain": [
       "                                                text  length  punct%\n",
       "0     Monday: The doctor's appointment is at 2:45pm.      46    10.0\n",
       "1  Tuesday: The dentist's appointment is at 11:30...      50     9.3\n",
       "2  Wednesday: At 7:00pm, there is a basketball game!      49     9.5\n",
       "3  Thursday: Be back home by 11:15 pm at the latest.      49     7.5\n",
       "4  Friday: Take the train at 08:10 am, arrive at ...      54    11.1"
      ]
     },
     "execution_count": 44,
     "metadata": {},
     "output_type": "execute_result"
    }
   ],
   "source": [
    "import string\n",
    "\n",
    "def count_punct(text):\n",
    "    count = sum([1 for char in text if char in string.punctuation])\n",
    "    return round(count/(len(text) - text.count(\" \")), 3)*100\n",
    "\n",
    "df['punct%'] = df['text'].apply(lambda x: count_punct(x))\n",
    "\n",
    "df.head()"
   ]
  },
  {
   "cell_type": "code",
   "execution_count": 45,
   "metadata": {
    "colab": {
     "base_uri": "https://localhost:8080/",
     "height": 206
    },
    "executionInfo": {
     "elapsed": 134,
     "status": "ok",
     "timestamp": 1633121841189,
     "user": {
      "displayName": "Shovit Bhari",
      "photoUrl": "https://lh3.googleusercontent.com/a-/AOh14Gg8SHY80seEg1yKQZGE4rGmTfOLMow46uexTDDHgXs=s64",
      "userId": "10536014893780956222"
     },
     "user_tz": 420
    },
    "id": "z6hcqqcdnL3y",
    "outputId": "62e5f308-f0fd-43ab-8f8e-18b0f616a3fb"
   },
   "outputs": [
    {
     "data": {
      "text/html": [
       "<div>\n",
       "<style scoped>\n",
       "    .dataframe tbody tr th:only-of-type {\n",
       "        vertical-align: middle;\n",
       "    }\n",
       "\n",
       "    .dataframe tbody tr th {\n",
       "        vertical-align: top;\n",
       "    }\n",
       "\n",
       "    .dataframe thead th {\n",
       "        text-align: right;\n",
       "    }\n",
       "</style>\n",
       "<table border=\"1\" class=\"dataframe\">\n",
       "  <thead>\n",
       "    <tr style=\"text-align: right;\">\n",
       "      <th></th>\n",
       "      <th>text</th>\n",
       "      <th>length</th>\n",
       "      <th>punct%</th>\n",
       "      <th>no_of_tokens</th>\n",
       "    </tr>\n",
       "  </thead>\n",
       "  <tbody>\n",
       "    <tr>\n",
       "      <th>0</th>\n",
       "      <td>Monday: The doctor's appointment is at 2:45pm.</td>\n",
       "      <td>46</td>\n",
       "      <td>10.0</td>\n",
       "      <td>7</td>\n",
       "    </tr>\n",
       "    <tr>\n",
       "      <th>1</th>\n",
       "      <td>Tuesday: The dentist's appointment is at 11:30...</td>\n",
       "      <td>50</td>\n",
       "      <td>9.3</td>\n",
       "      <td>8</td>\n",
       "    </tr>\n",
       "    <tr>\n",
       "      <th>2</th>\n",
       "      <td>Wednesday: At 7:00pm, there is a basketball game!</td>\n",
       "      <td>49</td>\n",
       "      <td>9.5</td>\n",
       "      <td>8</td>\n",
       "    </tr>\n",
       "    <tr>\n",
       "      <th>3</th>\n",
       "      <td>Thursday: Be back home by 11:15 pm at the latest.</td>\n",
       "      <td>49</td>\n",
       "      <td>7.5</td>\n",
       "      <td>10</td>\n",
       "    </tr>\n",
       "    <tr>\n",
       "      <th>4</th>\n",
       "      <td>Friday: Take the train at 08:10 am, arrive at ...</td>\n",
       "      <td>54</td>\n",
       "      <td>11.1</td>\n",
       "      <td>10</td>\n",
       "    </tr>\n",
       "  </tbody>\n",
       "</table>\n",
       "</div>"
      ],
      "text/plain": [
       "                                                text  length  punct%  \\\n",
       "0     Monday: The doctor's appointment is at 2:45pm.      46    10.0   \n",
       "1  Tuesday: The dentist's appointment is at 11:30...      50     9.3   \n",
       "2  Wednesday: At 7:00pm, there is a basketball game!      49     9.5   \n",
       "3  Thursday: Be back home by 11:15 pm at the latest.      49     7.5   \n",
       "4  Friday: Take the train at 08:10 am, arrive at ...      54    11.1   \n",
       "\n",
       "   no_of_tokens  \n",
       "0             7  \n",
       "1             8  \n",
       "2             8  \n",
       "3            10  \n",
       "4            10  "
      ]
     },
     "execution_count": 45,
     "metadata": {},
     "output_type": "execute_result"
    }
   ],
   "source": [
    "# find the number of tokens for each string in df['text']\n",
    "df['no_of_tokens']=df['text'].str.split().str.len()\n",
    "df.head()"
   ]
  },
  {
   "cell_type": "code",
   "execution_count": 46,
   "metadata": {
    "colab": {
     "base_uri": "https://localhost:8080/"
    },
    "executionInfo": {
     "elapsed": 138,
     "status": "ok",
     "timestamp": 1633121842520,
     "user": {
      "displayName": "Shovit Bhari",
      "photoUrl": "https://lh3.googleusercontent.com/a-/AOh14Gg8SHY80seEg1yKQZGE4rGmTfOLMow46uexTDDHgXs=s64",
      "userId": "10536014893780956222"
     },
     "user_tz": 420
    },
    "id": "gfNQJ83RnV4W",
    "outputId": "4f5b88d0-abf9-4013-a1c6-847ecefad533"
   },
   "outputs": [
    {
     "data": {
      "text/plain": [
       "0     True\n",
       "1     True\n",
       "2    False\n",
       "3    False\n",
       "4    False\n",
       "Name: text, dtype: bool"
      ]
     },
     "execution_count": 46,
     "metadata": {},
     "output_type": "execute_result"
    }
   ],
   "source": [
    "\n",
    "# find which entries contain the word 'appointment'\n",
    "df['text'].str.contains('appointment')"
   ]
  },
  {
   "cell_type": "code",
   "execution_count": 47,
   "metadata": {
    "colab": {
     "base_uri": "https://localhost:8080/"
    },
    "executionInfo": {
     "elapsed": 126,
     "status": "ok",
     "timestamp": 1633121320928,
     "user": {
      "displayName": "Shovit Bhari",
      "photoUrl": "https://lh3.googleusercontent.com/a-/AOh14Gg8SHY80seEg1yKQZGE4rGmTfOLMow46uexTDDHgXs=s64",
      "userId": "10536014893780956222"
     },
     "user_tz": 420
    },
    "id": "MnRSckmfnaVs",
    "outputId": "96804db1-2338-4dae-d6f3-a0e46bc47953"
   },
   "outputs": [
    {
     "data": {
      "text/plain": [
       "0    3\n",
       "1    4\n",
       "2    3\n",
       "3    4\n",
       "4    8\n",
       "Name: text, dtype: int64"
      ]
     },
     "execution_count": 47,
     "metadata": {},
     "output_type": "execute_result"
    }
   ],
   "source": [
    "# find how many times a digit occurs in each string\n",
    "df['text'].str.count(r'\\d')"
   ]
  },
  {
   "cell_type": "code",
   "execution_count": 48,
   "metadata": {
    "colab": {
     "base_uri": "https://localhost:8080/"
    },
    "executionInfo": {
     "elapsed": 135,
     "status": "ok",
     "timestamp": 1633121329411,
     "user": {
      "displayName": "Shovit Bhari",
      "photoUrl": "https://lh3.googleusercontent.com/a-/AOh14Gg8SHY80seEg1yKQZGE4rGmTfOLMow46uexTDDHgXs=s64",
      "userId": "10536014893780956222"
     },
     "user_tz": 420
    },
    "id": "95Bp7ecMnb5R",
    "outputId": "9a6b5448-a7da-48ff-8718-52294195af21"
   },
   "outputs": [
    {
     "data": {
      "text/plain": [
       "0                   [2, 4, 5]\n",
       "1                [1, 1, 3, 0]\n",
       "2                   [7, 0, 0]\n",
       "3                [1, 1, 1, 5]\n",
       "4    [0, 8, 1, 0, 0, 9, 0, 0]\n",
       "Name: text, dtype: object"
      ]
     },
     "execution_count": 48,
     "metadata": {},
     "output_type": "execute_result"
    }
   ],
   "source": [
    "\n",
    "# find all occurances of the digits\n",
    "df['text'].str.findall(r'\\d')"
   ]
  },
  {
   "cell_type": "code",
   "execution_count": 49,
   "metadata": {
    "colab": {
     "base_uri": "https://localhost:8080/"
    },
    "executionInfo": {
     "elapsed": 173,
     "status": "ok",
     "timestamp": 1633121341207,
     "user": {
      "displayName": "Shovit Bhari",
      "photoUrl": "https://lh3.googleusercontent.com/a-/AOh14Gg8SHY80seEg1yKQZGE4rGmTfOLMow46uexTDDHgXs=s64",
      "userId": "10536014893780956222"
     },
     "user_tz": 420
    },
    "id": "0a7uT-rznd-Q",
    "outputId": "9bf1fa2a-93f9-40b6-ee0a-75af6e21adb1"
   },
   "outputs": [
    {
     "name": "stderr",
     "output_type": "stream",
     "text": [
      "/var/folders/0h/n_gz241x73g1zkrjpf0qbzr00000gn/T/ipykernel_30475/3141514113.py:2: FutureWarning: The default value of regex will change from True to False in a future version.\n",
      "  df['text'].str.replace(r'\\w+day\\b', '???')\n"
     ]
    },
    {
     "data": {
      "text/plain": [
       "0          ???: The doctor's appointment is at 2:45pm.\n",
       "1       ???: The dentist's appointment is at 11:30 am.\n",
       "2          ???: At 7:00pm, there is a basketball game!\n",
       "3         ???: Be back home by 11:15 pm at the latest.\n",
       "4    ???: Take the train at 08:10 am, arrive at 09:...\n",
       "Name: text, dtype: object"
      ]
     },
     "execution_count": 49,
     "metadata": {},
     "output_type": "execute_result"
    }
   ],
   "source": [
    "# replace weekdays with '???'\n",
    "df['text'].str.replace(r'\\w+day\\b', '???')"
   ]
  },
  {
   "cell_type": "code",
   "execution_count": 50,
   "metadata": {
    "colab": {
     "base_uri": "https://localhost:8080/"
    },
    "executionInfo": {
     "elapsed": 128,
     "status": "ok",
     "timestamp": 1633121350496,
     "user": {
      "displayName": "Shovit Bhari",
      "photoUrl": "https://lh3.googleusercontent.com/a-/AOh14Gg8SHY80seEg1yKQZGE4rGmTfOLMow46uexTDDHgXs=s64",
      "userId": "10536014893780956222"
     },
     "user_tz": 420
    },
    "id": "_cNp5O44ng2b",
    "outputId": "c1e632a6-423f-4b14-8431-a2a345f33c2e"
   },
   "outputs": [
    {
     "name": "stderr",
     "output_type": "stream",
     "text": [
      "/var/folders/0h/n_gz241x73g1zkrjpf0qbzr00000gn/T/ipykernel_30475/2383568750.py:2: FutureWarning: The default value of regex will change from True to False in a future version.\n",
      "  df['text'].str.replace(r'(\\w+day\\b)', lambda x: x.groups()[0][:3])\n"
     ]
    },
    {
     "data": {
      "text/plain": [
       "0          Mon: The doctor's appointment is at 2:45pm.\n",
       "1       Tue: The dentist's appointment is at 11:30 am.\n",
       "2          Wed: At 7:00pm, there is a basketball game!\n",
       "3         Thu: Be back home by 11:15 pm at the latest.\n",
       "4    Fri: Take the train at 08:10 am, arrive at 09:...\n",
       "Name: text, dtype: object"
      ]
     },
     "execution_count": 50,
     "metadata": {},
     "output_type": "execute_result"
    }
   ],
   "source": [
    "# replace weekdays with 3 letter abbrevations\n",
    "df['text'].str.replace(r'(\\w+day\\b)', lambda x: x.groups()[0][:3])"
   ]
  },
  {
   "cell_type": "code",
   "execution_count": 51,
   "metadata": {
    "colab": {
     "base_uri": "https://localhost:8080/",
     "height": 206
    },
    "executionInfo": {
     "elapsed": 159,
     "status": "ok",
     "timestamp": 1633121357549,
     "user": {
      "displayName": "Shovit Bhari",
      "photoUrl": "https://lh3.googleusercontent.com/a-/AOh14Gg8SHY80seEg1yKQZGE4rGmTfOLMow46uexTDDHgXs=s64",
      "userId": "10536014893780956222"
     },
     "user_tz": 420
    },
    "id": "PyfIDF1QnjDC",
    "outputId": "01021a62-5b68-42de-a0dc-683a8cd31dcc"
   },
   "outputs": [
    {
     "data": {
      "text/html": [
       "<div>\n",
       "<style scoped>\n",
       "    .dataframe tbody tr th:only-of-type {\n",
       "        vertical-align: middle;\n",
       "    }\n",
       "\n",
       "    .dataframe tbody tr th {\n",
       "        vertical-align: top;\n",
       "    }\n",
       "\n",
       "    .dataframe thead th {\n",
       "        text-align: right;\n",
       "    }\n",
       "</style>\n",
       "<table border=\"1\" class=\"dataframe\">\n",
       "  <thead>\n",
       "    <tr style=\"text-align: right;\">\n",
       "      <th></th>\n",
       "      <th>0</th>\n",
       "      <th>1</th>\n",
       "    </tr>\n",
       "  </thead>\n",
       "  <tbody>\n",
       "    <tr>\n",
       "      <th>0</th>\n",
       "      <td>2</td>\n",
       "      <td>45</td>\n",
       "    </tr>\n",
       "    <tr>\n",
       "      <th>1</th>\n",
       "      <td>11</td>\n",
       "      <td>30</td>\n",
       "    </tr>\n",
       "    <tr>\n",
       "      <th>2</th>\n",
       "      <td>7</td>\n",
       "      <td>00</td>\n",
       "    </tr>\n",
       "    <tr>\n",
       "      <th>3</th>\n",
       "      <td>11</td>\n",
       "      <td>15</td>\n",
       "    </tr>\n",
       "    <tr>\n",
       "      <th>4</th>\n",
       "      <td>08</td>\n",
       "      <td>10</td>\n",
       "    </tr>\n",
       "  </tbody>\n",
       "</table>\n",
       "</div>"
      ],
      "text/plain": [
       "    0   1\n",
       "0   2  45\n",
       "1  11  30\n",
       "2   7  00\n",
       "3  11  15\n",
       "4  08  10"
      ]
     },
     "execution_count": 51,
     "metadata": {},
     "output_type": "execute_result"
    }
   ],
   "source": [
    "# create new columns from first match of extracted groups\n",
    "df['text'].str.extract(r'(\\d?\\d):(\\d\\d)')"
   ]
  },
  {
   "cell_type": "code",
   "execution_count": 52,
   "metadata": {
    "colab": {
     "base_uri": "https://localhost:8080/",
     "height": 269
    },
    "executionInfo": {
     "elapsed": 153,
     "status": "ok",
     "timestamp": 1633121365692,
     "user": {
      "displayName": "Shovit Bhari",
      "photoUrl": "https://lh3.googleusercontent.com/a-/AOh14Gg8SHY80seEg1yKQZGE4rGmTfOLMow46uexTDDHgXs=s64",
      "userId": "10536014893780956222"
     },
     "user_tz": 420
    },
    "id": "eNBXIq3vnk10",
    "outputId": "45275ce6-b6f0-42dd-d0c7-1e66e2272c3a"
   },
   "outputs": [
    {
     "data": {
      "text/html": [
       "<div>\n",
       "<style scoped>\n",
       "    .dataframe tbody tr th:only-of-type {\n",
       "        vertical-align: middle;\n",
       "    }\n",
       "\n",
       "    .dataframe tbody tr th {\n",
       "        vertical-align: top;\n",
       "    }\n",
       "\n",
       "    .dataframe thead th {\n",
       "        text-align: right;\n",
       "    }\n",
       "</style>\n",
       "<table border=\"1\" class=\"dataframe\">\n",
       "  <thead>\n",
       "    <tr style=\"text-align: right;\">\n",
       "      <th></th>\n",
       "      <th></th>\n",
       "      <th>0</th>\n",
       "      <th>1</th>\n",
       "      <th>2</th>\n",
       "      <th>3</th>\n",
       "    </tr>\n",
       "    <tr>\n",
       "      <th></th>\n",
       "      <th>match</th>\n",
       "      <th></th>\n",
       "      <th></th>\n",
       "      <th></th>\n",
       "      <th></th>\n",
       "    </tr>\n",
       "  </thead>\n",
       "  <tbody>\n",
       "    <tr>\n",
       "      <th>0</th>\n",
       "      <th>0</th>\n",
       "      <td>2:45pm</td>\n",
       "      <td>2</td>\n",
       "      <td>45</td>\n",
       "      <td>pm</td>\n",
       "    </tr>\n",
       "    <tr>\n",
       "      <th>1</th>\n",
       "      <th>0</th>\n",
       "      <td>11:30 am</td>\n",
       "      <td>11</td>\n",
       "      <td>30</td>\n",
       "      <td>am</td>\n",
       "    </tr>\n",
       "    <tr>\n",
       "      <th>2</th>\n",
       "      <th>0</th>\n",
       "      <td>7:00pm</td>\n",
       "      <td>7</td>\n",
       "      <td>00</td>\n",
       "      <td>pm</td>\n",
       "    </tr>\n",
       "    <tr>\n",
       "      <th>3</th>\n",
       "      <th>0</th>\n",
       "      <td>11:15 pm</td>\n",
       "      <td>11</td>\n",
       "      <td>15</td>\n",
       "      <td>pm</td>\n",
       "    </tr>\n",
       "    <tr>\n",
       "      <th rowspan=\"2\" valign=\"top\">4</th>\n",
       "      <th>0</th>\n",
       "      <td>08:10 am</td>\n",
       "      <td>08</td>\n",
       "      <td>10</td>\n",
       "      <td>am</td>\n",
       "    </tr>\n",
       "    <tr>\n",
       "      <th>1</th>\n",
       "      <td>09:00am</td>\n",
       "      <td>09</td>\n",
       "      <td>00</td>\n",
       "      <td>am</td>\n",
       "    </tr>\n",
       "  </tbody>\n",
       "</table>\n",
       "</div>"
      ],
      "text/plain": [
       "                0   1   2   3\n",
       "  match                      \n",
       "0 0        2:45pm   2  45  pm\n",
       "1 0      11:30 am  11  30  am\n",
       "2 0        7:00pm   7  00  pm\n",
       "3 0      11:15 pm  11  15  pm\n",
       "4 0      08:10 am  08  10  am\n",
       "  1       09:00am  09  00  am"
      ]
     },
     "execution_count": 52,
     "metadata": {},
     "output_type": "execute_result"
    }
   ],
   "source": [
    "# extract the entire time, the hours, the minutes, and the period\n",
    "df['text'].str.extractall(r'((\\d?\\d):(\\d\\d) ?([ap]m))')\n"
   ]
  },
  {
   "cell_type": "code",
   "execution_count": 53,
   "metadata": {
    "colab": {
     "base_uri": "https://localhost:8080/",
     "height": 269
    },
    "executionInfo": {
     "elapsed": 134,
     "status": "ok",
     "timestamp": 1633121375142,
     "user": {
      "displayName": "Shovit Bhari",
      "photoUrl": "https://lh3.googleusercontent.com/a-/AOh14Gg8SHY80seEg1yKQZGE4rGmTfOLMow46uexTDDHgXs=s64",
      "userId": "10536014893780956222"
     },
     "user_tz": 420
    },
    "id": "3Qxubnb6nm1G",
    "outputId": "81f0e8eb-8ba3-43f4-9c1f-0ef2eb8d5009"
   },
   "outputs": [
    {
     "data": {
      "text/html": [
       "<div>\n",
       "<style scoped>\n",
       "    .dataframe tbody tr th:only-of-type {\n",
       "        vertical-align: middle;\n",
       "    }\n",
       "\n",
       "    .dataframe tbody tr th {\n",
       "        vertical-align: top;\n",
       "    }\n",
       "\n",
       "    .dataframe thead th {\n",
       "        text-align: right;\n",
       "    }\n",
       "</style>\n",
       "<table border=\"1\" class=\"dataframe\">\n",
       "  <thead>\n",
       "    <tr style=\"text-align: right;\">\n",
       "      <th></th>\n",
       "      <th></th>\n",
       "      <th>time</th>\n",
       "      <th>hour</th>\n",
       "      <th>minute</th>\n",
       "      <th>period</th>\n",
       "    </tr>\n",
       "    <tr>\n",
       "      <th></th>\n",
       "      <th>match</th>\n",
       "      <th></th>\n",
       "      <th></th>\n",
       "      <th></th>\n",
       "      <th></th>\n",
       "    </tr>\n",
       "  </thead>\n",
       "  <tbody>\n",
       "    <tr>\n",
       "      <th>0</th>\n",
       "      <th>0</th>\n",
       "      <td>2:45pm</td>\n",
       "      <td>2</td>\n",
       "      <td>45</td>\n",
       "      <td>pm</td>\n",
       "    </tr>\n",
       "    <tr>\n",
       "      <th>1</th>\n",
       "      <th>0</th>\n",
       "      <td>11:30 am</td>\n",
       "      <td>11</td>\n",
       "      <td>30</td>\n",
       "      <td>am</td>\n",
       "    </tr>\n",
       "    <tr>\n",
       "      <th>2</th>\n",
       "      <th>0</th>\n",
       "      <td>7:00pm</td>\n",
       "      <td>7</td>\n",
       "      <td>00</td>\n",
       "      <td>pm</td>\n",
       "    </tr>\n",
       "    <tr>\n",
       "      <th>3</th>\n",
       "      <th>0</th>\n",
       "      <td>11:15 pm</td>\n",
       "      <td>11</td>\n",
       "      <td>15</td>\n",
       "      <td>pm</td>\n",
       "    </tr>\n",
       "    <tr>\n",
       "      <th rowspan=\"2\" valign=\"top\">4</th>\n",
       "      <th>0</th>\n",
       "      <td>08:10 am</td>\n",
       "      <td>08</td>\n",
       "      <td>10</td>\n",
       "      <td>am</td>\n",
       "    </tr>\n",
       "    <tr>\n",
       "      <th>1</th>\n",
       "      <td>09:00am</td>\n",
       "      <td>09</td>\n",
       "      <td>00</td>\n",
       "      <td>am</td>\n",
       "    </tr>\n",
       "  </tbody>\n",
       "</table>\n",
       "</div>"
      ],
      "text/plain": [
       "             time hour minute period\n",
       "  match                             \n",
       "0 0        2:45pm    2     45     pm\n",
       "1 0      11:30 am   11     30     am\n",
       "2 0        7:00pm    7     00     pm\n",
       "3 0      11:15 pm   11     15     pm\n",
       "4 0      08:10 am   08     10     am\n",
       "  1       09:00am   09     00     am"
      ]
     },
     "execution_count": 53,
     "metadata": {},
     "output_type": "execute_result"
    }
   ],
   "source": [
    "# extract the entire time, the hours, the minutes, and the period with group names\n",
    "df['text'].str.extractall(r'(?P<time>(?P<hour>\\d?\\d):(?P<minute>\\d\\d) ?(?P<period>[ap]m))')"
   ]
  },
  {
   "cell_type": "code",
   "execution_count": null,
   "metadata": {
    "id": "dR3EHfs1npIo"
   },
   "outputs": [],
   "source": []
  },
  {
   "cell_type": "code",
   "execution_count": null,
   "metadata": {},
   "outputs": [],
   "source": []
  },
  {
   "cell_type": "code",
   "execution_count": null,
   "metadata": {},
   "outputs": [],
   "source": []
  }
 ],
 "metadata": {
  "colab": {
   "collapsed_sections": [
    "m28opucNls0Z",
    "ZeyYH812mCnV"
   ],
   "name": "1-Working With Text.ipynb",
   "provenance": []
  },
  "kernelspec": {
   "display_name": "Python 3 (ipykernel)",
   "language": "python",
   "name": "python3"
  },
  "language_info": {
   "codemirror_mode": {
    "name": "ipython",
    "version": 3
   },
   "file_extension": ".py",
   "mimetype": "text/x-python",
   "name": "python",
   "nbconvert_exporter": "python",
   "pygments_lexer": "ipython3",
   "version": "3.9.6"
  },
  "latex_envs": {
   "LaTeX_envs_menu_present": true,
   "autoclose": false,
   "autocomplete": true,
   "bibliofile": "biblio.bib",
   "cite_by": "apalike",
   "current_citInitial": 1,
   "eqLabelWithNumbers": true,
   "eqNumInitial": 1,
   "hotkeys": {
    "equation": "Ctrl-E",
    "itemize": "Ctrl-I"
   },
   "labels_anchors": false,
   "latex_user_defs": false,
   "report_style_numbering": false,
   "user_envs_cfg": false
  },
  "nbTranslate": {
   "displayLangs": [
    "*"
   ],
   "hotkey": "alt-t",
   "langInMainMenu": true,
   "sourceLang": "en",
   "targetLang": "fr",
   "useGoogleTranslate": true
  },
  "toc": {
   "base_numbering": 1,
   "nav_menu": {},
   "number_sections": true,
   "sideBar": true,
   "skip_h1_title": false,
   "title_cell": "Table of Contents",
   "title_sidebar": "Contents",
   "toc_cell": false,
   "toc_position": {},
   "toc_section_display": true,
   "toc_window_display": false
  },
  "varInspector": {
   "cols": {
    "lenName": 16,
    "lenType": 16,
    "lenVar": 40
   },
   "kernels_config": {
    "python": {
     "delete_cmd_postfix": "",
     "delete_cmd_prefix": "del ",
     "library": "var_list.py",
     "varRefreshCmd": "print(var_dic_list())"
    },
    "r": {
     "delete_cmd_postfix": ") ",
     "delete_cmd_prefix": "rm(",
     "library": "var_list.r",
     "varRefreshCmd": "cat(var_dic_list()) "
    }
   },
   "types_to_exclude": [
    "module",
    "function",
    "builtin_function_or_method",
    "instance",
    "_Feature"
   ],
   "window_display": false
  }
 },
 "nbformat": 4,
 "nbformat_minor": 1
}
