{
 "cells": [
  {
   "cell_type": "code",
   "execution_count": null,
   "metadata": {
    "id": "6ju_aDwMKzWf"
   },
   "outputs": [],
   "source": []
  },
  {
   "cell_type": "markdown",
   "metadata": {
    "id": "KKJOt4dmO9xI"
   },
   "source": [
    "# Bag of Words (BoW)\n",
    "\n",
    "A bag-of-words model (BoW), is a way of extacting features from text for use in modeling, such as with machine learning algorithms. \n",
    "\n",
    "This is a very simple and flexible approach. It can be use in myriad of ways for extracting document. It involves two things:\n",
    "\n",
    "1. A vovabulary of known words.\n",
    "2. A measure of the presence of known words. \n",
    "\n",
    "It is called a \"bag\" of words, because any information about the order or structure of words in the document is discarded. The model is only concerned with wether known words occur in the document, not where in the document. \n",
    "\n",
    "Ex. \n",
    "\n",
    "* Betsy bought a butter\n",
    "* but the butter was bitter\n",
    "* so she added more butter to make bitter butter better.\n",
    "\n",
    "Unique Words:\n",
    "\n",
    "[Betsy, bought, a, butter, but, the, was, bitter, so, she, added, more, to, make, better]\n",
    "\n",
    "Ex: Betsy bought a butter: [1, 1, 1, 1, 0, 0, 0,0,0,0,0,0,0,0,0]\n",
    "\n",
    "Resulting vector is called the sparse matrix\n",
    "\n",
    "\n",
    "* cleaning text\n",
    "* ngrams\n",
    "* Scoring words (ex: frequencies)\n",
    "\n",
    "Limitations of BoW:\n",
    "\n",
    "* If the new sentences contain new words, then our vocabulary size would increase and thereby, the length of the vectors would increase too.\n",
    "* Additionally, the vectors would also contain many 0s, thereby resulting in a sparse matrix (which is what we would like to avoid)\n",
    "* We are retaining no information on the grammar of the sentences nor on the ordering of the words in the text."
   ]
  },
  {
   "cell_type": "markdown",
   "metadata": {
    "id": "SmWm_OSMTrWK"
   },
   "source": [
    "# TF-IDF (term frequency-inverse document frequency)\n",
    "\n",
    "TF-IDF is a stattistical measure the evaluates how relevant a word is to a document in a collection of documetns. \n",
    "\n",
    "This is done by multiplying two metrics: how many times a word appears in a document, and the inverse document frequency of the word across a set of documents.\n",
    "\n",
    "TF-IDF was invented for document search and information retrieval. It works by increasing proportionally to the number of times a word appears in a document, but is offset by the number of documents that contain the word. So, words that are common in every document, such as this, what, and if, rank low even though they may appear many times, since they don’t mean much to that document in particular.\n",
    "\n",
    "### How is TF-IDF calculated?\n",
    "\n",
    "$$tf_{i,j} \\times log(\\frac{N}{df_{i}})$$\n",
    "\n",
    "* The term frequency of a word in a document. There are several ways of calculating this frequency, with the simplest being a raw count of instances a word appears in a document. Then, there are ways to adjust the frequency, by length of a document, or by the raw frequency of the most frequent word in a document.\n",
    "* The inverse document frequency of the word across a set of documents. This means, how common or rare a word is in the entire document set. The closer it is to 0, the more common a word is. This metric can be calculated by taking the total number of documents, dividing it by the number of documents that contain a word, and calculating the logarithm.\n",
    "* So, if the word is very common and appears in many documents, this number will approach 0. Otherwise, it will approach 1.\n",
    "\n",
    "## Application of TF-IDf\n",
    "* Information retreival\n",
    "* Keyword Extraction\n",
    "\n",
    "[TF-IDF](https://en.wikipedia.org/wiki/Tf%E2%80%93idf)\n",
    "\n",
    "![TF-IDF](tfidf.png)\n",
    "\n",
    "\n",
    "\n"
   ]
  },
  {
   "cell_type": "markdown",
   "metadata": {
    "id": "sml-zNzIK0kH"
   },
   "source": [
    "# Case Study: Sentiment Analysis"
   ]
  },
  {
   "cell_type": "code",
   "execution_count": null,
   "metadata": {
    "colab": {
     "base_uri": "https://localhost:8080/"
    },
    "executionInfo": {
     "elapsed": 130,
     "status": "ok",
     "timestamp": 1633184508169,
     "user": {
      "displayName": "Shovit Bhari",
      "photoUrl": "https://lh3.googleusercontent.com/a-/AOh14Gg8SHY80seEg1yKQZGE4rGmTfOLMow46uexTDDHgXs=s64",
      "userId": "10536014893780956222"
     },
     "user_tz": 420
    },
    "id": "Ig7qnbgcK3yS",
    "outputId": "078e43a9-6dee-4174-f267-7e5050fa1f0f"
   },
   "outputs": [
    {
     "name": "stdout",
     "output_type": "stream",
     "text": [
      "Drive already mounted at /content/drive; to attempt to forcibly remount, call drive.mount(\"/content/drive\", force_remount=True).\n"
     ]
    }
   ],
   "source": [
    "# from google.colab import drive\n",
    "\n",
    "# drive.mount('/content/drive')"
   ]
  },
  {
   "cell_type": "code",
   "execution_count": null,
   "metadata": {
    "id": "Gdg-yuisK6HX"
   },
   "outputs": [],
   "source": [
    "# PATH = '/content/drive/MyDrive/NLPWorkShopANPAOct2021/'"
   ]
  },
  {
   "cell_type": "code",
   "execution_count": 1,
   "metadata": {
    "colab": {
     "base_uri": "https://localhost:8080/",
     "height": 310
    },
    "executionInfo": {
     "elapsed": 1191,
     "status": "ok",
     "timestamp": 1633184696796,
     "user": {
      "displayName": "Shovit Bhari",
      "photoUrl": "https://lh3.googleusercontent.com/a-/AOh14Gg8SHY80seEg1yKQZGE4rGmTfOLMow46uexTDDHgXs=s64",
      "userId": "10536014893780956222"
     },
     "user_tz": 420
    },
    "id": "YRgWT3tlLEG3",
    "outputId": "dada6fa3-d712-482c-87ed-3f4f0d96bae7"
   },
   "outputs": [
    {
     "data": {
      "text/html": [
       "<div>\n",
       "<style scoped>\n",
       "    .dataframe tbody tr th:only-of-type {\n",
       "        vertical-align: middle;\n",
       "    }\n",
       "\n",
       "    .dataframe tbody tr th {\n",
       "        vertical-align: top;\n",
       "    }\n",
       "\n",
       "    .dataframe thead th {\n",
       "        text-align: right;\n",
       "    }\n",
       "</style>\n",
       "<table border=\"1\" class=\"dataframe\">\n",
       "  <thead>\n",
       "    <tr style=\"text-align: right;\">\n",
       "      <th></th>\n",
       "      <th>Product Name</th>\n",
       "      <th>Brand Name</th>\n",
       "      <th>Price</th>\n",
       "      <th>Rating</th>\n",
       "      <th>Reviews</th>\n",
       "      <th>Review Votes</th>\n",
       "    </tr>\n",
       "  </thead>\n",
       "  <tbody>\n",
       "    <tr>\n",
       "      <th>190866</th>\n",
       "      <td>HTC Freestyle F5151 Pd53100 Unlocked Smartphone</td>\n",
       "      <td>HTC</td>\n",
       "      <td>39.00</td>\n",
       "      <td>3</td>\n",
       "      <td>the OS doesnt work good</td>\n",
       "      <td>1.0</td>\n",
       "    </tr>\n",
       "    <tr>\n",
       "      <th>160492</th>\n",
       "      <td>BLU VIVO 5 Smartphone -5.5\" 4G LTE GSM Unlocke...</td>\n",
       "      <td>BLU</td>\n",
       "      <td>199.99</td>\n",
       "      <td>4</td>\n",
       "      <td>It met all possible expectations for a midrang...</td>\n",
       "      <td>0.0</td>\n",
       "    </tr>\n",
       "    <tr>\n",
       "      <th>263289</th>\n",
       "      <td>Nokia C3-00 Unlocked Cell Phone (Slate) with Q...</td>\n",
       "      <td>Nokia</td>\n",
       "      <td>49.99</td>\n",
       "      <td>5</td>\n",
       "      <td>Purchased for a friend who lives overseas. Fri...</td>\n",
       "      <td>0.0</td>\n",
       "    </tr>\n",
       "    <tr>\n",
       "      <th>353980</th>\n",
       "      <td>Samsung Galaxy S5 Mini G800H Unlocked Cellphon...</td>\n",
       "      <td>Samsung</td>\n",
       "      <td>350.00</td>\n",
       "      <td>1</td>\n",
       "      <td>Although I arrived An original phone but was D...</td>\n",
       "      <td>3.0</td>\n",
       "    </tr>\n",
       "    <tr>\n",
       "      <th>239801</th>\n",
       "      <td>LifeProof Case 1801-02 for Samsung Galaxy S4 (...</td>\n",
       "      <td>LifeProof</td>\n",
       "      <td>6.99</td>\n",
       "      <td>5</td>\n",
       "      <td>Great packaging..great product! It protects th...</td>\n",
       "      <td>0.0</td>\n",
       "    </tr>\n",
       "  </tbody>\n",
       "</table>\n",
       "</div>"
      ],
      "text/plain": [
       "                                             Product Name Brand Name   Price  \\\n",
       "190866    HTC Freestyle F5151 Pd53100 Unlocked Smartphone        HTC   39.00   \n",
       "160492  BLU VIVO 5 Smartphone -5.5\" 4G LTE GSM Unlocke...        BLU  199.99   \n",
       "263289  Nokia C3-00 Unlocked Cell Phone (Slate) with Q...      Nokia   49.99   \n",
       "353980  Samsung Galaxy S5 Mini G800H Unlocked Cellphon...    Samsung  350.00   \n",
       "239801  LifeProof Case 1801-02 for Samsung Galaxy S4 (...  LifeProof    6.99   \n",
       "\n",
       "        Rating                                            Reviews  \\\n",
       "190866       3                            the OS doesnt work good   \n",
       "160492       4  It met all possible expectations for a midrang...   \n",
       "263289       5  Purchased for a friend who lives overseas. Fri...   \n",
       "353980       1  Although I arrived An original phone but was D...   \n",
       "239801       5  Great packaging..great product! It protects th...   \n",
       "\n",
       "        Review Votes  \n",
       "190866           1.0  \n",
       "160492           0.0  \n",
       "263289           0.0  \n",
       "353980           3.0  \n",
       "239801           0.0  "
      ]
     },
     "execution_count": 1,
     "metadata": {},
     "output_type": "execute_result"
    }
   ],
   "source": [
    "\n",
    "import pandas as pd\n",
    "import numpy as np\n",
    "\n",
    "# Read in the data\n",
    "df = pd.read_csv('Amazon_Unlocked_Mobile.csv')\n",
    "\n",
    "# Sample the data to speed up computation\n",
    "# Comment out this line to match with lecture\n",
    "df = df.sample(frac=0.1)\n",
    "\n",
    "df.head()"
   ]
  },
  {
   "cell_type": "code",
   "execution_count": 2,
   "metadata": {
    "colab": {
     "base_uri": "https://localhost:8080/"
    },
    "executionInfo": {
     "elapsed": 162,
     "status": "ok",
     "timestamp": 1633184698327,
     "user": {
      "displayName": "Shovit Bhari",
      "photoUrl": "https://lh3.googleusercontent.com/a-/AOh14Gg8SHY80seEg1yKQZGE4rGmTfOLMow46uexTDDHgXs=s64",
      "userId": "10536014893780956222"
     },
     "user_tz": 420
    },
    "id": "xIpz1voJ7-3r",
    "outputId": "683cd237-66a7-4b38-fe64-82427af9fbc0"
   },
   "outputs": [
    {
     "data": {
      "text/plain": [
       "(41384, 6)"
      ]
     },
     "execution_count": 2,
     "metadata": {},
     "output_type": "execute_result"
    }
   ],
   "source": [
    "df.shape"
   ]
  },
  {
   "cell_type": "code",
   "execution_count": 3,
   "metadata": {
    "id": "-4wcP1ivLHlx"
   },
   "outputs": [],
   "source": [
    "# Drop missing values\n",
    "df.dropna(inplace=True)\n",
    "\n"
   ]
  },
  {
   "cell_type": "code",
   "execution_count": 4,
   "metadata": {
    "id": "JaYNKW4K8ENp"
   },
   "outputs": [],
   "source": [
    "# Remove any 'neutral' ratings equal to 3\n",
    "df = df[df['Rating'] != 3]\n"
   ]
  },
  {
   "cell_type": "code",
   "execution_count": 5,
   "metadata": {
    "colab": {
     "base_uri": "https://localhost:8080/",
     "height": 554
    },
    "executionInfo": {
     "elapsed": 6,
     "status": "ok",
     "timestamp": 1633184699595,
     "user": {
      "displayName": "Shovit Bhari",
      "photoUrl": "https://lh3.googleusercontent.com/a-/AOh14Gg8SHY80seEg1yKQZGE4rGmTfOLMow46uexTDDHgXs=s64",
      "userId": "10536014893780956222"
     },
     "user_tz": 420
    },
    "id": "d2xyE9CC8LVS",
    "outputId": "2cdbce34-0964-42ad-e780-0625910cf952"
   },
   "outputs": [
    {
     "data": {
      "text/html": [
       "<div>\n",
       "<style scoped>\n",
       "    .dataframe tbody tr th:only-of-type {\n",
       "        vertical-align: middle;\n",
       "    }\n",
       "\n",
       "    .dataframe tbody tr th {\n",
       "        vertical-align: top;\n",
       "    }\n",
       "\n",
       "    .dataframe thead th {\n",
       "        text-align: right;\n",
       "    }\n",
       "</style>\n",
       "<table border=\"1\" class=\"dataframe\">\n",
       "  <thead>\n",
       "    <tr style=\"text-align: right;\">\n",
       "      <th></th>\n",
       "      <th>Product Name</th>\n",
       "      <th>Brand Name</th>\n",
       "      <th>Price</th>\n",
       "      <th>Rating</th>\n",
       "      <th>Reviews</th>\n",
       "      <th>Review Votes</th>\n",
       "      <th>Positively Rated</th>\n",
       "    </tr>\n",
       "  </thead>\n",
       "  <tbody>\n",
       "    <tr>\n",
       "      <th>160492</th>\n",
       "      <td>BLU VIVO 5 Smartphone -5.5\" 4G LTE GSM Unlocke...</td>\n",
       "      <td>BLU</td>\n",
       "      <td>199.99</td>\n",
       "      <td>4</td>\n",
       "      <td>It met all possible expectations for a midrang...</td>\n",
       "      <td>0.0</td>\n",
       "      <td>1</td>\n",
       "    </tr>\n",
       "    <tr>\n",
       "      <th>263289</th>\n",
       "      <td>Nokia C3-00 Unlocked Cell Phone (Slate) with Q...</td>\n",
       "      <td>Nokia</td>\n",
       "      <td>49.99</td>\n",
       "      <td>5</td>\n",
       "      <td>Purchased for a friend who lives overseas. Fri...</td>\n",
       "      <td>0.0</td>\n",
       "      <td>1</td>\n",
       "    </tr>\n",
       "    <tr>\n",
       "      <th>353980</th>\n",
       "      <td>Samsung Galaxy S5 Mini G800H Unlocked Cellphon...</td>\n",
       "      <td>Samsung</td>\n",
       "      <td>350.00</td>\n",
       "      <td>1</td>\n",
       "      <td>Although I arrived An original phone but was D...</td>\n",
       "      <td>3.0</td>\n",
       "      <td>0</td>\n",
       "    </tr>\n",
       "    <tr>\n",
       "      <th>239801</th>\n",
       "      <td>LifeProof Case 1801-02 for Samsung Galaxy S4 (...</td>\n",
       "      <td>LifeProof</td>\n",
       "      <td>6.99</td>\n",
       "      <td>5</td>\n",
       "      <td>Great packaging..great product! It protects th...</td>\n",
       "      <td>0.0</td>\n",
       "      <td>1</td>\n",
       "    </tr>\n",
       "    <tr>\n",
       "      <th>256946</th>\n",
       "      <td>Motorola RAZR V3 Unlocked Phone with Quad-Band...</td>\n",
       "      <td>Motorola</td>\n",
       "      <td>47.50</td>\n",
       "      <td>5</td>\n",
       "      <td>I had dropped and broken my previous beloved M...</td>\n",
       "      <td>0.0</td>\n",
       "      <td>1</td>\n",
       "    </tr>\n",
       "    <tr>\n",
       "      <th>49840</th>\n",
       "      <td>Apple iPhone 5s AT&amp;T Cellphone, 16GB, Silver</td>\n",
       "      <td>Apple</td>\n",
       "      <td>139.95</td>\n",
       "      <td>4</td>\n",
       "      <td>lovely phone</td>\n",
       "      <td>0.0</td>\n",
       "      <td>1</td>\n",
       "    </tr>\n",
       "    <tr>\n",
       "      <th>276352</th>\n",
       "      <td>Nokia Lumia 925 RM-893 GSM Unlocked 4G LTE Win...</td>\n",
       "      <td>Nokia</td>\n",
       "      <td>99.00</td>\n",
       "      <td>4</td>\n",
       "      <td>Yes, this phone is really fast, even with the ...</td>\n",
       "      <td>2.0</td>\n",
       "      <td>1</td>\n",
       "    </tr>\n",
       "    <tr>\n",
       "      <th>32381</th>\n",
       "      <td>Apple iPhone 5c 32GB (White) - AT&amp;T</td>\n",
       "      <td>Apple</td>\n",
       "      <td>279.95</td>\n",
       "      <td>5</td>\n",
       "      <td>Great quality product.</td>\n",
       "      <td>1.0</td>\n",
       "      <td>1</td>\n",
       "    </tr>\n",
       "    <tr>\n",
       "      <th>70246</th>\n",
       "      <td>Apple iPhone 6S Plus Unlocked Smartphone, 32 G...</td>\n",
       "      <td>Apple</td>\n",
       "      <td>749.99</td>\n",
       "      <td>5</td>\n",
       "      <td>Big purchase (for me) so I was worried, but al...</td>\n",
       "      <td>1.0</td>\n",
       "      <td>1</td>\n",
       "    </tr>\n",
       "    <tr>\n",
       "      <th>291503</th>\n",
       "      <td>Pantech Pursuit 2 P6010 Unlocked GSM 3G Slider...</td>\n",
       "      <td>Pantech</td>\n",
       "      <td>249.99</td>\n",
       "      <td>5</td>\n",
       "      <td>fast shipping and just as advertised! Thank you!</td>\n",
       "      <td>4.0</td>\n",
       "      <td>1</td>\n",
       "    </tr>\n",
       "  </tbody>\n",
       "</table>\n",
       "</div>"
      ],
      "text/plain": [
       "                                             Product Name Brand Name   Price  \\\n",
       "160492  BLU VIVO 5 Smartphone -5.5\" 4G LTE GSM Unlocke...        BLU  199.99   \n",
       "263289  Nokia C3-00 Unlocked Cell Phone (Slate) with Q...      Nokia   49.99   \n",
       "353980  Samsung Galaxy S5 Mini G800H Unlocked Cellphon...    Samsung  350.00   \n",
       "239801  LifeProof Case 1801-02 for Samsung Galaxy S4 (...  LifeProof    6.99   \n",
       "256946  Motorola RAZR V3 Unlocked Phone with Quad-Band...   Motorola   47.50   \n",
       "49840        Apple iPhone 5s AT&T Cellphone, 16GB, Silver      Apple  139.95   \n",
       "276352  Nokia Lumia 925 RM-893 GSM Unlocked 4G LTE Win...      Nokia   99.00   \n",
       "32381                 Apple iPhone 5c 32GB (White) - AT&T      Apple  279.95   \n",
       "70246   Apple iPhone 6S Plus Unlocked Smartphone, 32 G...      Apple  749.99   \n",
       "291503  Pantech Pursuit 2 P6010 Unlocked GSM 3G Slider...    Pantech  249.99   \n",
       "\n",
       "        Rating                                            Reviews  \\\n",
       "160492       4  It met all possible expectations for a midrang...   \n",
       "263289       5  Purchased for a friend who lives overseas. Fri...   \n",
       "353980       1  Although I arrived An original phone but was D...   \n",
       "239801       5  Great packaging..great product! It protects th...   \n",
       "256946       5  I had dropped and broken my previous beloved M...   \n",
       "49840        4                                       lovely phone   \n",
       "276352       4  Yes, this phone is really fast, even with the ...   \n",
       "32381        5                             Great quality product.   \n",
       "70246        5  Big purchase (for me) so I was worried, but al...   \n",
       "291503       5   fast shipping and just as advertised! Thank you!   \n",
       "\n",
       "        Review Votes  Positively Rated  \n",
       "160492           0.0                 1  \n",
       "263289           0.0                 1  \n",
       "353980           3.0                 0  \n",
       "239801           0.0                 1  \n",
       "256946           0.0                 1  \n",
       "49840            0.0                 1  \n",
       "276352           2.0                 1  \n",
       "32381            1.0                 1  \n",
       "70246            1.0                 1  \n",
       "291503           4.0                 1  "
      ]
     },
     "execution_count": 5,
     "metadata": {},
     "output_type": "execute_result"
    }
   ],
   "source": [
    "\n",
    "# Encode 4s and 5s as 1 (rated positively)\n",
    "# Encode 1s and 2s as 0 (rated poorly)\n",
    "df['Positively Rated'] = np.where(df['Rating'] >3,1,0)\n",
    "df.head(10)"
   ]
  },
  {
   "cell_type": "code",
   "execution_count": 6,
   "metadata": {
    "colab": {
     "base_uri": "https://localhost:8080/"
    },
    "executionInfo": {
     "elapsed": 4,
     "status": "ok",
     "timestamp": 1633184699755,
     "user": {
      "displayName": "Shovit Bhari",
      "photoUrl": "https://lh3.googleusercontent.com/a-/AOh14Gg8SHY80seEg1yKQZGE4rGmTfOLMow46uexTDDHgXs=s64",
      "userId": "10536014893780956222"
     },
     "user_tz": 420
    },
    "id": "1-XJPwROLL5m",
    "outputId": "23e2f74f-3079-4971-98e0-67118712f963"
   },
   "outputs": [
    {
     "data": {
      "text/plain": [
       "0.7506031166460194"
      ]
     },
     "execution_count": 6,
     "metadata": {},
     "output_type": "execute_result"
    }
   ],
   "source": [
    "# Most ratings are positive\n",
    "df['Positively Rated'].mean()"
   ]
  },
  {
   "cell_type": "code",
   "execution_count": 7,
   "metadata": {
    "id": "C0wH2a87LQxc"
   },
   "outputs": [],
   "source": [
    "from sklearn.model_selection import train_test_split\n",
    "\n",
    "# Split data into training and test sets\n",
    "X_train, X_test, y_train, y_test = train_test_split(df['Reviews'], \n",
    "                                                    df['Positively Rated'], \n",
    "                                                    random_state=0)"
   ]
  },
  {
   "cell_type": "code",
   "execution_count": 8,
   "metadata": {
    "colab": {
     "base_uri": "https://localhost:8080/"
    },
    "executionInfo": {
     "elapsed": 4,
     "status": "ok",
     "timestamp": 1633184700968,
     "user": {
      "displayName": "Shovit Bhari",
      "photoUrl": "https://lh3.googleusercontent.com/a-/AOh14Gg8SHY80seEg1yKQZGE4rGmTfOLMow46uexTDDHgXs=s64",
      "userId": "10536014893780956222"
     },
     "user_tz": 420
    },
    "id": "AIglq9UQ8lsw",
    "outputId": "bf919666-b378-4a61-e165-31e47fd021b8"
   },
   "outputs": [
    {
     "name": "stdout",
     "output_type": "stream",
     "text": [
      "(23005,)\n",
      "(7669,)\n"
     ]
    }
   ],
   "source": [
    "print(X_train.shape)\n",
    "print(X_test.shape)"
   ]
  },
  {
   "cell_type": "code",
   "execution_count": 9,
   "metadata": {
    "colab": {
     "base_uri": "https://localhost:8080/"
    },
    "executionInfo": {
     "elapsed": 5,
     "status": "ok",
     "timestamp": 1633184701644,
     "user": {
      "displayName": "Shovit Bhari",
      "photoUrl": "https://lh3.googleusercontent.com/a-/AOh14Gg8SHY80seEg1yKQZGE4rGmTfOLMow46uexTDDHgXs=s64",
      "userId": "10536014893780956222"
     },
     "user_tz": 420
    },
    "id": "0oYrF8b7LSxC",
    "outputId": "d0fed757-ca85-4b84-dfc9-c8d81f283d15"
   },
   "outputs": [
    {
     "name": "stdout",
     "output_type": "stream",
     "text": [
      "X_train first entry:\n",
      "\n",
      " 178350                       For the price it was great....\n",
      "289233                               Don't like it to much.\n",
      "156674    Brought several other BLU phones. All worth it...\n",
      "Name: Reviews, dtype: object\n",
      "\n",
      "\n",
      "X_train shape:  (23005,)\n"
     ]
    }
   ],
   "source": [
    "\n",
    "print('X_train first entry:\\n\\n', X_train.iloc[0:3])\n",
    "print('\\n\\nX_train shape: ', X_train.shape)"
   ]
  },
  {
   "cell_type": "markdown",
   "metadata": {
    "id": "nb7B01FxLYHw"
   },
   "source": [
    "## CountVectorizer"
   ]
  },
  {
   "cell_type": "code",
   "execution_count": 10,
   "metadata": {
    "id": "vhFytfgd9ZBM"
   },
   "outputs": [],
   "source": [
    "\n",
    "from sklearn.feature_extraction.text import CountVectorizer"
   ]
  },
  {
   "cell_type": "code",
   "execution_count": 11,
   "metadata": {
    "id": "bo_Y4zRqLUsn"
   },
   "outputs": [],
   "source": [
    "\n",
    "\n",
    "# Fit the CountVectorizer to the training data\n",
    "vect = CountVectorizer().fit(X_train)"
   ]
  },
  {
   "cell_type": "code",
   "execution_count": 12,
   "metadata": {
    "colab": {
     "base_uri": "https://localhost:8080/"
    },
    "executionInfo": {
     "elapsed": 6,
     "status": "ok",
     "timestamp": 1633184705749,
     "user": {
      "displayName": "Shovit Bhari",
      "photoUrl": "https://lh3.googleusercontent.com/a-/AOh14Gg8SHY80seEg1yKQZGE4rGmTfOLMow46uexTDDHgXs=s64",
      "userId": "10536014893780956222"
     },
     "user_tz": 420
    },
    "id": "Pp6IAGwzLbgx",
    "outputId": "dfbc6145-9392-486f-a8ad-29109e6da812"
   },
   "outputs": [
    {
     "data": {
      "text/plain": [
       "['00',\n",
       " 'atmos',\n",
       " 'comparing',\n",
       " 'ec',\n",
       " 'gradually',\n",
       " 'legendary',\n",
       " 'opens',\n",
       " 'recomendando',\n",
       " 'sorround',\n",
       " 'unload']"
      ]
     },
     "execution_count": 12,
     "metadata": {},
     "output_type": "execute_result"
    }
   ],
   "source": [
    "vect.get_feature_names()[::2000]"
   ]
  },
  {
   "cell_type": "code",
   "execution_count": 13,
   "metadata": {
    "colab": {
     "base_uri": "https://localhost:8080/"
    },
    "executionInfo": {
     "elapsed": 4,
     "status": "ok",
     "timestamp": 1633184706523,
     "user": {
      "displayName": "Shovit Bhari",
      "photoUrl": "https://lh3.googleusercontent.com/a-/AOh14Gg8SHY80seEg1yKQZGE4rGmTfOLMow46uexTDDHgXs=s64",
      "userId": "10536014893780956222"
     },
     "user_tz": 420
    },
    "id": "uBNDjqTCLdUa",
    "outputId": "ed755080-57d4-4ec4-fea8-0397868c91ed"
   },
   "outputs": [
    {
     "data": {
      "text/plain": [
       "19387"
      ]
     },
     "execution_count": 13,
     "metadata": {},
     "output_type": "execute_result"
    }
   ],
   "source": [
    "len(vect.get_feature_names())\n"
   ]
  },
  {
   "cell_type": "code",
   "execution_count": 14,
   "metadata": {
    "colab": {
     "base_uri": "https://localhost:8080/"
    },
    "executionInfo": {
     "elapsed": 908,
     "status": "ok",
     "timestamp": 1633184708163,
     "user": {
      "displayName": "Shovit Bhari",
      "photoUrl": "https://lh3.googleusercontent.com/a-/AOh14Gg8SHY80seEg1yKQZGE4rGmTfOLMow46uexTDDHgXs=s64",
      "userId": "10536014893780956222"
     },
     "user_tz": 420
    },
    "id": "grTWX1w-Lg3t",
    "outputId": "fb1705b9-a2cc-4d2d-fe89-6ad33b23e9e6"
   },
   "outputs": [
    {
     "data": {
      "text/plain": [
       "<23005x19387 sparse matrix of type '<class 'numpy.int64'>'\n",
       "\twith 606356 stored elements in Compressed Sparse Row format>"
      ]
     },
     "execution_count": 14,
     "metadata": {},
     "output_type": "execute_result"
    }
   ],
   "source": [
    "\n",
    "# transform the documents in the training data to a document-term matrix\n",
    "X_train_vectorized = vect.transform(X_train)\n",
    "\n",
    "X_train_vectorized"
   ]
  },
  {
   "cell_type": "code",
   "execution_count": 15,
   "metadata": {
    "colab": {
     "base_uri": "https://localhost:8080/",
     "height": 443
    },
    "executionInfo": {
     "elapsed": 2643,
     "status": "ok",
     "timestamp": 1633184710803,
     "user": {
      "displayName": "Shovit Bhari",
      "photoUrl": "https://lh3.googleusercontent.com/a-/AOh14Gg8SHY80seEg1yKQZGE4rGmTfOLMow46uexTDDHgXs=s64",
      "userId": "10536014893780956222"
     },
     "user_tz": 420
    },
    "id": "t1ycTFws_XwE",
    "outputId": "aa835989-f3a9-4964-804b-9ea2f00168ab"
   },
   "outputs": [
    {
     "data": {
      "text/html": [
       "<div>\n",
       "<style scoped>\n",
       "    .dataframe tbody tr th:only-of-type {\n",
       "        vertical-align: middle;\n",
       "    }\n",
       "\n",
       "    .dataframe tbody tr th {\n",
       "        vertical-align: top;\n",
       "    }\n",
       "\n",
       "    .dataframe thead th {\n",
       "        text-align: right;\n",
       "    }\n",
       "</style>\n",
       "<table border=\"1\" class=\"dataframe\">\n",
       "  <thead>\n",
       "    <tr style=\"text-align: right;\">\n",
       "      <th></th>\n",
       "      <th>0</th>\n",
       "      <th>1</th>\n",
       "      <th>2</th>\n",
       "      <th>3</th>\n",
       "      <th>4</th>\n",
       "      <th>5</th>\n",
       "      <th>6</th>\n",
       "      <th>7</th>\n",
       "      <th>8</th>\n",
       "      <th>9</th>\n",
       "      <th>...</th>\n",
       "      <th>19377</th>\n",
       "      <th>19378</th>\n",
       "      <th>19379</th>\n",
       "      <th>19380</th>\n",
       "      <th>19381</th>\n",
       "      <th>19382</th>\n",
       "      <th>19383</th>\n",
       "      <th>19384</th>\n",
       "      <th>19385</th>\n",
       "      <th>19386</th>\n",
       "    </tr>\n",
       "  </thead>\n",
       "  <tbody>\n",
       "    <tr>\n",
       "      <th>0</th>\n",
       "      <td>0</td>\n",
       "      <td>0</td>\n",
       "      <td>0</td>\n",
       "      <td>0</td>\n",
       "      <td>0</td>\n",
       "      <td>0</td>\n",
       "      <td>0</td>\n",
       "      <td>0</td>\n",
       "      <td>0</td>\n",
       "      <td>0</td>\n",
       "      <td>...</td>\n",
       "      <td>0</td>\n",
       "      <td>0</td>\n",
       "      <td>0</td>\n",
       "      <td>0</td>\n",
       "      <td>0</td>\n",
       "      <td>0</td>\n",
       "      <td>0</td>\n",
       "      <td>0</td>\n",
       "      <td>0</td>\n",
       "      <td>0</td>\n",
       "    </tr>\n",
       "    <tr>\n",
       "      <th>1</th>\n",
       "      <td>0</td>\n",
       "      <td>0</td>\n",
       "      <td>0</td>\n",
       "      <td>0</td>\n",
       "      <td>0</td>\n",
       "      <td>0</td>\n",
       "      <td>0</td>\n",
       "      <td>0</td>\n",
       "      <td>0</td>\n",
       "      <td>0</td>\n",
       "      <td>...</td>\n",
       "      <td>0</td>\n",
       "      <td>0</td>\n",
       "      <td>0</td>\n",
       "      <td>0</td>\n",
       "      <td>0</td>\n",
       "      <td>0</td>\n",
       "      <td>0</td>\n",
       "      <td>0</td>\n",
       "      <td>0</td>\n",
       "      <td>0</td>\n",
       "    </tr>\n",
       "    <tr>\n",
       "      <th>2</th>\n",
       "      <td>0</td>\n",
       "      <td>0</td>\n",
       "      <td>0</td>\n",
       "      <td>0</td>\n",
       "      <td>0</td>\n",
       "      <td>0</td>\n",
       "      <td>0</td>\n",
       "      <td>0</td>\n",
       "      <td>0</td>\n",
       "      <td>0</td>\n",
       "      <td>...</td>\n",
       "      <td>0</td>\n",
       "      <td>0</td>\n",
       "      <td>0</td>\n",
       "      <td>0</td>\n",
       "      <td>0</td>\n",
       "      <td>0</td>\n",
       "      <td>0</td>\n",
       "      <td>0</td>\n",
       "      <td>0</td>\n",
       "      <td>0</td>\n",
       "    </tr>\n",
       "    <tr>\n",
       "      <th>3</th>\n",
       "      <td>0</td>\n",
       "      <td>0</td>\n",
       "      <td>0</td>\n",
       "      <td>0</td>\n",
       "      <td>0</td>\n",
       "      <td>0</td>\n",
       "      <td>0</td>\n",
       "      <td>0</td>\n",
       "      <td>0</td>\n",
       "      <td>0</td>\n",
       "      <td>...</td>\n",
       "      <td>0</td>\n",
       "      <td>0</td>\n",
       "      <td>0</td>\n",
       "      <td>0</td>\n",
       "      <td>0</td>\n",
       "      <td>0</td>\n",
       "      <td>0</td>\n",
       "      <td>0</td>\n",
       "      <td>0</td>\n",
       "      <td>0</td>\n",
       "    </tr>\n",
       "    <tr>\n",
       "      <th>4</th>\n",
       "      <td>0</td>\n",
       "      <td>0</td>\n",
       "      <td>0</td>\n",
       "      <td>0</td>\n",
       "      <td>0</td>\n",
       "      <td>0</td>\n",
       "      <td>0</td>\n",
       "      <td>0</td>\n",
       "      <td>0</td>\n",
       "      <td>0</td>\n",
       "      <td>...</td>\n",
       "      <td>0</td>\n",
       "      <td>0</td>\n",
       "      <td>0</td>\n",
       "      <td>0</td>\n",
       "      <td>0</td>\n",
       "      <td>0</td>\n",
       "      <td>0</td>\n",
       "      <td>0</td>\n",
       "      <td>0</td>\n",
       "      <td>0</td>\n",
       "    </tr>\n",
       "    <tr>\n",
       "      <th>...</th>\n",
       "      <td>...</td>\n",
       "      <td>...</td>\n",
       "      <td>...</td>\n",
       "      <td>...</td>\n",
       "      <td>...</td>\n",
       "      <td>...</td>\n",
       "      <td>...</td>\n",
       "      <td>...</td>\n",
       "      <td>...</td>\n",
       "      <td>...</td>\n",
       "      <td>...</td>\n",
       "      <td>...</td>\n",
       "      <td>...</td>\n",
       "      <td>...</td>\n",
       "      <td>...</td>\n",
       "      <td>...</td>\n",
       "      <td>...</td>\n",
       "      <td>...</td>\n",
       "      <td>...</td>\n",
       "      <td>...</td>\n",
       "      <td>...</td>\n",
       "    </tr>\n",
       "    <tr>\n",
       "      <th>23000</th>\n",
       "      <td>0</td>\n",
       "      <td>0</td>\n",
       "      <td>0</td>\n",
       "      <td>0</td>\n",
       "      <td>0</td>\n",
       "      <td>0</td>\n",
       "      <td>0</td>\n",
       "      <td>0</td>\n",
       "      <td>0</td>\n",
       "      <td>0</td>\n",
       "      <td>...</td>\n",
       "      <td>0</td>\n",
       "      <td>0</td>\n",
       "      <td>0</td>\n",
       "      <td>0</td>\n",
       "      <td>0</td>\n",
       "      <td>0</td>\n",
       "      <td>0</td>\n",
       "      <td>0</td>\n",
       "      <td>0</td>\n",
       "      <td>0</td>\n",
       "    </tr>\n",
       "    <tr>\n",
       "      <th>23001</th>\n",
       "      <td>0</td>\n",
       "      <td>0</td>\n",
       "      <td>0</td>\n",
       "      <td>0</td>\n",
       "      <td>0</td>\n",
       "      <td>0</td>\n",
       "      <td>0</td>\n",
       "      <td>0</td>\n",
       "      <td>0</td>\n",
       "      <td>0</td>\n",
       "      <td>...</td>\n",
       "      <td>0</td>\n",
       "      <td>0</td>\n",
       "      <td>0</td>\n",
       "      <td>0</td>\n",
       "      <td>0</td>\n",
       "      <td>0</td>\n",
       "      <td>0</td>\n",
       "      <td>0</td>\n",
       "      <td>0</td>\n",
       "      <td>0</td>\n",
       "    </tr>\n",
       "    <tr>\n",
       "      <th>23002</th>\n",
       "      <td>0</td>\n",
       "      <td>0</td>\n",
       "      <td>0</td>\n",
       "      <td>0</td>\n",
       "      <td>0</td>\n",
       "      <td>0</td>\n",
       "      <td>0</td>\n",
       "      <td>0</td>\n",
       "      <td>0</td>\n",
       "      <td>0</td>\n",
       "      <td>...</td>\n",
       "      <td>0</td>\n",
       "      <td>0</td>\n",
       "      <td>0</td>\n",
       "      <td>0</td>\n",
       "      <td>0</td>\n",
       "      <td>0</td>\n",
       "      <td>0</td>\n",
       "      <td>0</td>\n",
       "      <td>0</td>\n",
       "      <td>0</td>\n",
       "    </tr>\n",
       "    <tr>\n",
       "      <th>23003</th>\n",
       "      <td>0</td>\n",
       "      <td>0</td>\n",
       "      <td>0</td>\n",
       "      <td>0</td>\n",
       "      <td>0</td>\n",
       "      <td>0</td>\n",
       "      <td>0</td>\n",
       "      <td>0</td>\n",
       "      <td>0</td>\n",
       "      <td>0</td>\n",
       "      <td>...</td>\n",
       "      <td>0</td>\n",
       "      <td>0</td>\n",
       "      <td>0</td>\n",
       "      <td>0</td>\n",
       "      <td>0</td>\n",
       "      <td>0</td>\n",
       "      <td>0</td>\n",
       "      <td>0</td>\n",
       "      <td>0</td>\n",
       "      <td>0</td>\n",
       "    </tr>\n",
       "    <tr>\n",
       "      <th>23004</th>\n",
       "      <td>0</td>\n",
       "      <td>0</td>\n",
       "      <td>0</td>\n",
       "      <td>0</td>\n",
       "      <td>0</td>\n",
       "      <td>0</td>\n",
       "      <td>0</td>\n",
       "      <td>0</td>\n",
       "      <td>0</td>\n",
       "      <td>0</td>\n",
       "      <td>...</td>\n",
       "      <td>0</td>\n",
       "      <td>0</td>\n",
       "      <td>0</td>\n",
       "      <td>0</td>\n",
       "      <td>0</td>\n",
       "      <td>0</td>\n",
       "      <td>0</td>\n",
       "      <td>0</td>\n",
       "      <td>0</td>\n",
       "      <td>0</td>\n",
       "    </tr>\n",
       "  </tbody>\n",
       "</table>\n",
       "<p>23005 rows × 19387 columns</p>\n",
       "</div>"
      ],
      "text/plain": [
       "       0      1      2      3      4      5      6      7      8      9      \\\n",
       "0          0      0      0      0      0      0      0      0      0      0   \n",
       "1          0      0      0      0      0      0      0      0      0      0   \n",
       "2          0      0      0      0      0      0      0      0      0      0   \n",
       "3          0      0      0      0      0      0      0      0      0      0   \n",
       "4          0      0      0      0      0      0      0      0      0      0   \n",
       "...      ...    ...    ...    ...    ...    ...    ...    ...    ...    ...   \n",
       "23000      0      0      0      0      0      0      0      0      0      0   \n",
       "23001      0      0      0      0      0      0      0      0      0      0   \n",
       "23002      0      0      0      0      0      0      0      0      0      0   \n",
       "23003      0      0      0      0      0      0      0      0      0      0   \n",
       "23004      0      0      0      0      0      0      0      0      0      0   \n",
       "\n",
       "       ...  19377  19378  19379  19380  19381  19382  19383  19384  19385  \\\n",
       "0      ...      0      0      0      0      0      0      0      0      0   \n",
       "1      ...      0      0      0      0      0      0      0      0      0   \n",
       "2      ...      0      0      0      0      0      0      0      0      0   \n",
       "3      ...      0      0      0      0      0      0      0      0      0   \n",
       "4      ...      0      0      0      0      0      0      0      0      0   \n",
       "...    ...    ...    ...    ...    ...    ...    ...    ...    ...    ...   \n",
       "23000  ...      0      0      0      0      0      0      0      0      0   \n",
       "23001  ...      0      0      0      0      0      0      0      0      0   \n",
       "23002  ...      0      0      0      0      0      0      0      0      0   \n",
       "23003  ...      0      0      0      0      0      0      0      0      0   \n",
       "23004  ...      0      0      0      0      0      0      0      0      0   \n",
       "\n",
       "       19386  \n",
       "0          0  \n",
       "1          0  \n",
       "2          0  \n",
       "3          0  \n",
       "4          0  \n",
       "...      ...  \n",
       "23000      0  \n",
       "23001      0  \n",
       "23002      0  \n",
       "23003      0  \n",
       "23004      0  \n",
       "\n",
       "[23005 rows x 19387 columns]"
      ]
     },
     "execution_count": 15,
     "metadata": {},
     "output_type": "execute_result"
    }
   ],
   "source": [
    "X_df = pd.DataFrame(X_train_vectorized.toarray())\n",
    "X_df"
   ]
  },
  {
   "cell_type": "code",
   "execution_count": 29,
   "metadata": {
    "colab": {
     "base_uri": "https://localhost:8080/"
    },
    "executionInfo": {
     "elapsed": 4023,
     "status": "ok",
     "timestamp": 1633184883689,
     "user": {
      "displayName": "Shovit Bhari",
      "photoUrl": "https://lh3.googleusercontent.com/a-/AOh14Gg8SHY80seEg1yKQZGE4rGmTfOLMow46uexTDDHgXs=s64",
      "userId": "10536014893780956222"
     },
     "user_tz": 420
    },
    "id": "dOQZA4iaLi20",
    "outputId": "4dfe0e45-bbec-45c3-ec0e-d1a0a5cc0aeb"
   },
   "outputs": [
    {
     "name": "stderr",
     "output_type": "stream",
     "text": [
      "/Library/Frameworks/Python.framework/Versions/3.9/lib/python3.9/site-packages/sklearn/linear_model/_logistic.py:763: ConvergenceWarning: lbfgs failed to converge (status=1):\n",
      "STOP: TOTAL NO. of ITERATIONS REACHED LIMIT.\n",
      "\n",
      "Increase the number of iterations (max_iter) or scale the data as shown in:\n",
      "    https://scikit-learn.org/stable/modules/preprocessing.html\n",
      "Please also refer to the documentation for alternative solver options:\n",
      "    https://scikit-learn.org/stable/modules/linear_model.html#logistic-regression\n",
      "  n_iter_i = _check_optimize_result(\n"
     ]
    },
    {
     "data": {
      "text/plain": [
       "LogisticRegression()"
      ]
     },
     "execution_count": 29,
     "metadata": {},
     "output_type": "execute_result"
    }
   ],
   "source": [
    "\n",
    "from sklearn.linear_model import LogisticRegression\n",
    "from sklearn.metrics import roc_auc_score\n",
    "\n",
    "# Train the model\n",
    "model = LogisticRegression()\n",
    "model.fit(X_train_vectorized, y_train)\n"
   ]
  },
  {
   "cell_type": "code",
   "execution_count": 30,
   "metadata": {
    "colab": {
     "base_uri": "https://localhost:8080/"
    },
    "executionInfo": {
     "elapsed": 885,
     "status": "ok",
     "timestamp": 1633184884570,
     "user": {
      "displayName": "Shovit Bhari",
      "photoUrl": "https://lh3.googleusercontent.com/a-/AOh14Gg8SHY80seEg1yKQZGE4rGmTfOLMow46uexTDDHgXs=s64",
      "userId": "10536014893780956222"
     },
     "user_tz": 420
    },
    "id": "jOujZU0zLlSs",
    "outputId": "8b276fd9-cd0e-4d16-8ba0-9e900415a556"
   },
   "outputs": [
    {
     "name": "stdout",
     "output_type": "stream",
     "text": [
      "AUC:  0.9129059498625546\n"
     ]
    }
   ],
   "source": [
    "\n",
    "\n",
    "# Predict the transformed test documents\n",
    "predictions = model.predict(vect.transform(X_test))\n",
    "\n",
    "print('AUC: ', roc_auc_score(y_test, predictions))"
   ]
  },
  {
   "cell_type": "code",
   "execution_count": 31,
   "metadata": {
    "colab": {
     "base_uri": "https://localhost:8080/"
    },
    "executionInfo": {
     "elapsed": 6,
     "status": "ok",
     "timestamp": 1633184884570,
     "user": {
      "displayName": "Shovit Bhari",
      "photoUrl": "https://lh3.googleusercontent.com/a-/AOh14Gg8SHY80seEg1yKQZGE4rGmTfOLMow46uexTDDHgXs=s64",
      "userId": "10536014893780956222"
     },
     "user_tz": 420
    },
    "id": "vsYFxAxHLrvS",
    "outputId": "be2dcdb6-f1b5-468b-fdf6-5d799ea98287"
   },
   "outputs": [
    {
     "data": {
      "text/plain": [
       "array(['00', '00 and', '000', ..., 'zune', 'ítem', 'único'], dtype='<U22')"
      ]
     },
     "execution_count": 31,
     "metadata": {},
     "output_type": "execute_result"
    }
   ],
   "source": [
    "# get the feature names as numpy array\n",
    "feature_names = np.array(vect.get_feature_names())\n",
    "feature_names\n"
   ]
  },
  {
   "cell_type": "code",
   "execution_count": 32,
   "metadata": {
    "colab": {
     "base_uri": "https://localhost:8080/"
    },
    "executionInfo": {
     "elapsed": 157,
     "status": "ok",
     "timestamp": 1633184998605,
     "user": {
      "displayName": "Shovit Bhari",
      "photoUrl": "https://lh3.googleusercontent.com/a-/AOh14Gg8SHY80seEg1yKQZGE4rGmTfOLMow46uexTDDHgXs=s64",
      "userId": "10536014893780956222"
     },
     "user_tz": 420
    },
    "id": "FmOpsAVF_2nh",
    "outputId": "43a93866-71a7-49a3-8953-6e4faadf0e51"
   },
   "outputs": [
    {
     "name": "stdout",
     "output_type": "stream",
     "text": [
      "Smallest Coefs:\n",
      "['no good' 'horrible' 'junk' 'terrible' 'poor' 'fake' 'don like' 'worst'\n",
      " 'disappointed' 'sucks']\n",
      "\n",
      "Largest Coefs: \n",
      "['excellent' 'excelente' 'perfect' 'excelent' 'love' 'awesome' 'not bad'\n",
      " 'great' 'amazing' 'nice']\n"
     ]
    }
   ],
   "source": [
    "\n",
    "# Sort the coefficients from the model\n",
    "sorted_coef_index = model.coef_[0].argsort()\n",
    "\n",
    "# Find the 10 smallest and 10 largest coefficients\n",
    "# The 10 largest coefficients are being indexed using [:-11:-1] \n",
    "# so the list returned is in order of largest to smallest\n",
    "print('Smallest Coefs:\\n{}\\n'.format(feature_names[sorted_coef_index[:10]]))\n",
    "print('Largest Coefs: \\n{}'.format(feature_names[sorted_coef_index[:-11:-1]]))"
   ]
  },
  {
   "cell_type": "code",
   "execution_count": 33,
   "metadata": {
    "colab": {
     "base_uri": "https://localhost:8080/"
    },
    "executionInfo": {
     "elapsed": 882,
     "status": "ok",
     "timestamp": 1633184999945,
     "user": {
      "displayName": "Shovit Bhari",
      "photoUrl": "https://lh3.googleusercontent.com/a-/AOh14Gg8SHY80seEg1yKQZGE4rGmTfOLMow46uexTDDHgXs=s64",
      "userId": "10536014893780956222"
     },
     "user_tz": 420
    },
    "id": "TBMoZd1ULvcG",
    "outputId": "c62c8009-3a6a-46d5-be87-833a631d562e"
   },
   "outputs": [
    {
     "data": {
      "text/plain": [
       "5428"
      ]
     },
     "execution_count": 33,
     "metadata": {},
     "output_type": "execute_result"
    }
   ],
   "source": [
    "\n",
    "from sklearn.feature_extraction.text import TfidfVectorizer\n",
    "\n",
    "# Fit the TfidfVectorizer to the training data specifiying a minimum document frequency of 5\n",
    "vect = TfidfVectorizer(min_df=5).fit(X_train)\n",
    "len(vect.get_feature_names())"
   ]
  },
  {
   "cell_type": "code",
   "execution_count": 34,
   "metadata": {
    "colab": {
     "base_uri": "https://localhost:8080/"
    },
    "executionInfo": {
     "elapsed": 1640,
     "status": "ok",
     "timestamp": 1633185001584,
     "user": {
      "displayName": "Shovit Bhari",
      "photoUrl": "https://lh3.googleusercontent.com/a-/AOh14Gg8SHY80seEg1yKQZGE4rGmTfOLMow46uexTDDHgXs=s64",
      "userId": "10536014893780956222"
     },
     "user_tz": 420
    },
    "id": "exkRI-O3L7HW",
    "outputId": "a4efdc84-c0a0-4588-db98-0b88c705ea86"
   },
   "outputs": [
    {
     "name": "stdout",
     "output_type": "stream",
     "text": [
      "AUC:  0.887143056799629\n"
     ]
    }
   ],
   "source": [
    "\n",
    "X_train_vectorized = vect.transform(X_train)\n",
    "\n",
    "model = LogisticRegression()\n",
    "model.fit(X_train_vectorized, y_train)\n",
    "\n",
    "predictions = model.predict(vect.transform(X_test))\n",
    "\n",
    "print('AUC: ', roc_auc_score(y_test, predictions))"
   ]
  },
  {
   "cell_type": "code",
   "execution_count": 35,
   "metadata": {
    "colab": {
     "base_uri": "https://localhost:8080/"
    },
    "executionInfo": {
     "elapsed": 13,
     "status": "ok",
     "timestamp": 1633185001584,
     "user": {
      "displayName": "Shovit Bhari",
      "photoUrl": "https://lh3.googleusercontent.com/a-/AOh14Gg8SHY80seEg1yKQZGE4rGmTfOLMow46uexTDDHgXs=s64",
      "userId": "10536014893780956222"
     },
     "user_tz": 420
    },
    "id": "KLu82Ux6L85m",
    "outputId": "f41f386b-7ee3-4343-8896-7f410cdf9591"
   },
   "outputs": [
    {
     "name": "stdout",
     "output_type": "stream",
     "text": [
      "Smallest tfidf:\n",
      "['distort' 'foremost' 'reliably' 'briefly' 'makers' 'powerpoint'\n",
      " 'softkeys' 'onboard' 'cooler' 'noticing']\n",
      "\n",
      "Largest tfidf: \n",
      "['problems' 'fine' 'nice' 'spectacular' 'never' 'returned' 'cel' 'awesome'\n",
      " 'awful' 'tks']\n"
     ]
    }
   ],
   "source": [
    "feature_names = np.array(vect.get_feature_names())\n",
    "\n",
    "sorted_tfidf_index = X_train_vectorized.max(0).toarray()[0].argsort()\n",
    "\n",
    "print('Smallest tfidf:\\n{}\\n'.format(feature_names[sorted_tfidf_index[:10]]))\n",
    "print('Largest tfidf: \\n{}'.format(feature_names[sorted_tfidf_index[:-11:-1]]))"
   ]
  },
  {
   "cell_type": "code",
   "execution_count": 36,
   "metadata": {
    "colab": {
     "base_uri": "https://localhost:8080/"
    },
    "executionInfo": {
     "elapsed": 11,
     "status": "ok",
     "timestamp": 1633185001585,
     "user": {
      "displayName": "Shovit Bhari",
      "photoUrl": "https://lh3.googleusercontent.com/a-/AOh14Gg8SHY80seEg1yKQZGE4rGmTfOLMow46uexTDDHgXs=s64",
      "userId": "10536014893780956222"
     },
     "user_tz": 420
    },
    "id": "L2yZri_GL-pY",
    "outputId": "c664fe8d-ec8f-465a-c46e-f5292db10605"
   },
   "outputs": [
    {
     "name": "stdout",
     "output_type": "stream",
     "text": [
      "Smallest Coefs:\n",
      "['not' 'return' 'disappointed' 'poor' 'worst' 'terrible' 'horrible'\n",
      " 'waste' 'don' 'months']\n",
      "\n",
      "Largest Coefs: \n",
      "['great' 'love' 'excellent' 'perfect' 'good' 'works' 'easy' 'best' 'nice'\n",
      " 'far']\n"
     ]
    }
   ],
   "source": [
    "\n",
    "sorted_coef_index = model.coef_[0].argsort()\n",
    "\n",
    "print('Smallest Coefs:\\n{}\\n'.format(feature_names[sorted_coef_index[:10]]))\n",
    "print('Largest Coefs: \\n{}'.format(feature_names[sorted_coef_index[:-11:-1]]))"
   ]
  },
  {
   "cell_type": "code",
   "execution_count": 37,
   "metadata": {
    "colab": {
     "base_uri": "https://localhost:8080/"
    },
    "executionInfo": {
     "elapsed": 8,
     "status": "ok",
     "timestamp": 1633185001585,
     "user": {
      "displayName": "Shovit Bhari",
      "photoUrl": "https://lh3.googleusercontent.com/a-/AOh14Gg8SHY80seEg1yKQZGE4rGmTfOLMow46uexTDDHgXs=s64",
      "userId": "10536014893780956222"
     },
     "user_tz": 420
    },
    "id": "k9QBBIo-MBU6",
    "outputId": "f9d38dea-2554-4719-ebcf-09be8e036fc8"
   },
   "outputs": [
    {
     "name": "stdout",
     "output_type": "stream",
     "text": [
      "[0 0]\n"
     ]
    }
   ],
   "source": [
    "# These reviews are treated the same by our current model\n",
    "print(model.predict(vect.transform(['not an issue, phone is working',\n",
    "                                    'an issue, phone is not working'])))"
   ]
  },
  {
   "cell_type": "code",
   "execution_count": 38,
   "metadata": {
    "colab": {
     "base_uri": "https://localhost:8080/"
    },
    "executionInfo": {
     "elapsed": 4843,
     "status": "ok",
     "timestamp": 1633185056680,
     "user": {
      "displayName": "Shovit Bhari",
      "photoUrl": "https://lh3.googleusercontent.com/a-/AOh14Gg8SHY80seEg1yKQZGE4rGmTfOLMow46uexTDDHgXs=s64",
      "userId": "10536014893780956222"
     },
     "user_tz": 420
    },
    "id": "_YTTM3q-MDa3",
    "outputId": "bd73cd63-7d59-410d-dea3-f3cc881033b2"
   },
   "outputs": [
    {
     "data": {
      "text/plain": [
       "28457"
      ]
     },
     "execution_count": 38,
     "metadata": {},
     "output_type": "execute_result"
    }
   ],
   "source": [
    "# Fit the CountVectorizer to the training data specifiying a minimum \n",
    "# document frequency of 5 and extracting 1-grams and 2-grams\n",
    "vect = CountVectorizer(min_df=5, ngram_range=(1,2)).fit(X_train)\n",
    "\n",
    "X_train_vectorized = vect.transform(X_train)\n",
    "\n",
    "len(vect.get_feature_names())"
   ]
  },
  {
   "cell_type": "code",
   "execution_count": 39,
   "metadata": {
    "colab": {
     "base_uri": "https://localhost:8080/"
    },
    "executionInfo": {
     "elapsed": 2469,
     "status": "ok",
     "timestamp": 1633185059145,
     "user": {
      "displayName": "Shovit Bhari",
      "photoUrl": "https://lh3.googleusercontent.com/a-/AOh14Gg8SHY80seEg1yKQZGE4rGmTfOLMow46uexTDDHgXs=s64",
      "userId": "10536014893780956222"
     },
     "user_tz": 420
    },
    "id": "h4iQmtOBMQcT",
    "outputId": "de6e0972-cfaf-47c0-e138-4601017f53df"
   },
   "outputs": [
    {
     "name": "stderr",
     "output_type": "stream",
     "text": [
      "/Library/Frameworks/Python.framework/Versions/3.9/lib/python3.9/site-packages/sklearn/linear_model/_logistic.py:763: ConvergenceWarning: lbfgs failed to converge (status=1):\n",
      "STOP: TOTAL NO. of ITERATIONS REACHED LIMIT.\n",
      "\n",
      "Increase the number of iterations (max_iter) or scale the data as shown in:\n",
      "    https://scikit-learn.org/stable/modules/preprocessing.html\n",
      "Please also refer to the documentation for alternative solver options:\n",
      "    https://scikit-learn.org/stable/modules/linear_model.html#logistic-regression\n",
      "  n_iter_i = _check_optimize_result(\n"
     ]
    },
    {
     "name": "stdout",
     "output_type": "stream",
     "text": [
      "AUC:  0.9129059498625546\n"
     ]
    }
   ],
   "source": [
    "model = LogisticRegression()\n",
    "model.fit(X_train_vectorized, y_train)\n",
    "\n",
    "predictions = model.predict(vect.transform(X_test))\n",
    "\n",
    "print('AUC: ', roc_auc_score(y_test, predictions))"
   ]
  },
  {
   "cell_type": "code",
   "execution_count": 40,
   "metadata": {
    "colab": {
     "base_uri": "https://localhost:8080/"
    },
    "executionInfo": {
     "elapsed": 10,
     "status": "ok",
     "timestamp": 1633185059145,
     "user": {
      "displayName": "Shovit Bhari",
      "photoUrl": "https://lh3.googleusercontent.com/a-/AOh14Gg8SHY80seEg1yKQZGE4rGmTfOLMow46uexTDDHgXs=s64",
      "userId": "10536014893780956222"
     },
     "user_tz": 420
    },
    "id": "hFNqYXrCMSmR",
    "outputId": "9f05fd07-62f9-40b4-c7be-3d2a4b20cf94"
   },
   "outputs": [
    {
     "name": "stdout",
     "output_type": "stream",
     "text": [
      "Smallest Coefs:\n",
      "['no good' 'horrible' 'junk' 'terrible' 'poor' 'fake' 'don like' 'worst'\n",
      " 'disappointed' 'sucks']\n",
      "\n",
      "Largest Coefs: \n",
      "['excellent' 'excelente' 'perfect' 'excelent' 'love' 'awesome' 'not bad'\n",
      " 'great' 'amazing' 'nice']\n"
     ]
    }
   ],
   "source": [
    "feature_names = np.array(vect.get_feature_names())\n",
    "\n",
    "sorted_coef_index = model.coef_[0].argsort()\n",
    "\n",
    "print('Smallest Coefs:\\n{}\\n'.format(feature_names[sorted_coef_index[:10]]))\n",
    "print('Largest Coefs: \\n{}'.format(feature_names[sorted_coef_index[:-11:-1]]))"
   ]
  },
  {
   "cell_type": "code",
   "execution_count": 41,
   "metadata": {
    "colab": {
     "base_uri": "https://localhost:8080/"
    },
    "executionInfo": {
     "elapsed": 7,
     "status": "ok",
     "timestamp": 1633185059146,
     "user": {
      "displayName": "Shovit Bhari",
      "photoUrl": "https://lh3.googleusercontent.com/a-/AOh14Gg8SHY80seEg1yKQZGE4rGmTfOLMow46uexTDDHgXs=s64",
      "userId": "10536014893780956222"
     },
     "user_tz": 420
    },
    "id": "HhYY4DHJMVjc",
    "outputId": "57d31514-c8ff-41e4-8c60-022138a0971e"
   },
   "outputs": [
    {
     "name": "stdout",
     "output_type": "stream",
     "text": [
      "[1 0]\n"
     ]
    }
   ],
   "source": [
    "# These reviews are now correctly identified\n",
    "print(model.predict(vect.transform(['not an issue, phone is working',\n",
    "                                    'an issue, phone is not working'])))"
   ]
  },
  {
   "cell_type": "code",
   "execution_count": null,
   "metadata": {
    "id": "gljYWFi7MYK8"
   },
   "outputs": [],
   "source": []
  },
  {
   "cell_type": "code",
   "execution_count": null,
   "metadata": {},
   "outputs": [],
   "source": []
  },
  {
   "cell_type": "code",
   "execution_count": null,
   "metadata": {},
   "outputs": [],
   "source": []
  }
 ],
 "metadata": {
  "colab": {
   "collapsed_sections": [],
   "name": "4-BoWTfidf.ipynb",
   "provenance": []
  },
  "kernelspec": {
   "display_name": "Python 3 (ipykernel)",
   "language": "python",
   "name": "python3"
  },
  "language_info": {
   "codemirror_mode": {
    "name": "ipython",
    "version": 3
   },
   "file_extension": ".py",
   "mimetype": "text/x-python",
   "name": "python",
   "nbconvert_exporter": "python",
   "pygments_lexer": "ipython3",
   "version": "3.9.6"
  },
  "latex_envs": {
   "LaTeX_envs_menu_present": true,
   "autoclose": false,
   "autocomplete": true,
   "bibliofile": "biblio.bib",
   "cite_by": "apalike",
   "current_citInitial": 1,
   "eqLabelWithNumbers": true,
   "eqNumInitial": 1,
   "hotkeys": {
    "equation": "Ctrl-E",
    "itemize": "Ctrl-I"
   },
   "labels_anchors": false,
   "latex_user_defs": false,
   "report_style_numbering": false,
   "user_envs_cfg": false
  },
  "nbTranslate": {
   "displayLangs": [
    "*"
   ],
   "hotkey": "alt-t",
   "langInMainMenu": true,
   "sourceLang": "en",
   "targetLang": "fr",
   "useGoogleTranslate": true
  },
  "toc": {
   "base_numbering": 1,
   "nav_menu": {},
   "number_sections": true,
   "sideBar": true,
   "skip_h1_title": false,
   "title_cell": "Table of Contents",
   "title_sidebar": "Contents",
   "toc_cell": false,
   "toc_position": {},
   "toc_section_display": true,
   "toc_window_display": false
  },
  "varInspector": {
   "cols": {
    "lenName": 16,
    "lenType": 16,
    "lenVar": 40
   },
   "kernels_config": {
    "python": {
     "delete_cmd_postfix": "",
     "delete_cmd_prefix": "del ",
     "library": "var_list.py",
     "varRefreshCmd": "print(var_dic_list())"
    },
    "r": {
     "delete_cmd_postfix": ") ",
     "delete_cmd_prefix": "rm(",
     "library": "var_list.r",
     "varRefreshCmd": "cat(var_dic_list()) "
    }
   },
   "types_to_exclude": [
    "module",
    "function",
    "builtin_function_or_method",
    "instance",
    "_Feature"
   ],
   "window_display": false
  }
 },
 "nbformat": 4,
 "nbformat_minor": 1
}
